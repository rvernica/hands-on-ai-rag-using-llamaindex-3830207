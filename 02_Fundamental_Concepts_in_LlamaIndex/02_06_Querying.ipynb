{
 "cells": [
  {
   "cell_type": "code",
   "execution_count": 1,
   "metadata": {},
   "outputs": [],
   "source": [
    "%%capture\n",
    "# !pip install llama-index==0.10.37 cohere==5.5.0 openai==1.30.1 llama-index-embeddings-openai==0.1.9 llama-index-llms-cohere==0.2.0 qdrant-client==1.9.1 llama-index-vector-stores-qdrant==0.2.8 "
   ]
  },
  {
   "cell_type": "code",
   "execution_count": 2,
   "metadata": {},
   "outputs": [
    {
     "data": {
      "text/plain": [
       "True"
      ]
     },
     "execution_count": 2,
     "metadata": {},
     "output_type": "execute_result"
    }
   ],
   "source": [
    "import os\n",
    "\n",
    "from getpass import getpass\n",
    "import nest_asyncio\n",
    "\n",
    "from dotenv import load_dotenv\n",
    "\n",
    "nest_asyncio.apply()\n",
    "\n",
    "load_dotenv()"
   ]
  },
  {
   "cell_type": "code",
   "execution_count": 3,
   "metadata": {},
   "outputs": [],
   "source": [
    "CO_API_KEY = os.environ['CO_API_KEY'] or getpass(\"Enter your Cohere API key: \")"
   ]
  },
  {
   "cell_type": "code",
   "execution_count": 4,
   "metadata": {},
   "outputs": [],
   "source": [
    "# OPENAI_API_KEY = os.environ['OPENAI_API_KEY'] or getpass(\"Enter your OpenAI API key: \")"
   ]
  },
  {
   "cell_type": "code",
   "execution_count": 5,
   "metadata": {},
   "outputs": [],
   "source": [
    "QDRANT_URL = os.environ['QDRANT_URL'] or getpass(\"Enter your Qdrant URL:\")"
   ]
  },
  {
   "cell_type": "code",
   "execution_count": 6,
   "metadata": {},
   "outputs": [],
   "source": [
    "QDRANT_API_KEY = os.environ['QDRANT_API_KEY'] or  getpass(\"Enter your Qdrant API Key:\")"
   ]
  },
  {
   "cell_type": "markdown",
   "metadata": {},
   "source": [
    "# Querying\n",
    "\n",
    "- 📊 Now that you've loaded your data and built an index, it's time to focus on the core of an LLM application: querying.\n",
    "\n",
    "- 🤖 Querying at its simplest involves making a prompt call to an LLM - this could be asking a question, requesting a summary, or giving more complex instructions.\n",
    "\n",
    "- 🔗 For more advanced uses, querying can include repeated or chained prompt calls to an LLM, or even a reasoning loop across multiple components.\n",
    "\n",
    "Let's first instantiate the `qdrant` vector store."
   ]
  },
  {
   "cell_type": "code",
   "execution_count": 7,
   "metadata": {},
   "outputs": [
    {
     "name": "stderr",
     "output_type": "stream",
     "text": [
      "[nltk_data] Downloading package punkt_tab to\n",
      "[nltk_data]     /opt/conda/envs/lil_llama_index/lib/python3.10/site-\n",
      "[nltk_data]     packages/llama_index/core/_static/nltk_cache...\n",
      "[nltk_data]   Package punkt_tab is already up-to-date!\n"
     ]
    }
   ],
   "source": [
    "import qdrant_client\n",
    "from llama_index.embeddings.cohere import CohereEmbedding\n",
    "# from llama_index.embeddings.openai import OpenAIEmbedding\n",
    "from llama_index.core import VectorStoreIndex\n",
    "from llama_index.vector_stores.qdrant import QdrantVectorStore\n",
    "from llama_index.core import StorageContext\n",
    "\n",
    "# embed_model = OpenAIEmbedding(model_name=\"text-embedding-3-small\")\n",
    "embed_model = CohereEmbedding(model_name=\"embed-english-v3.0\")\n",
    "\n",
    "# initialize qdrant client\n",
    "client = qdrant_client.QdrantClient(\n",
    "    url=QDRANT_URL, \n",
    "    api_key=QDRANT_API_KEY,\n",
    ")\n",
    "\n",
    "vector_store = QdrantVectorStore(\n",
    "    client=client, \n",
    "    collection_name=\"it_can_be_done\",\n",
    "    embed_model=embed_model,\n",
    ")\n",
    "\n",
    "# assign qdrant vector store to storage context\n",
    "storage_context = StorageContext.from_defaults(\n",
    "    vector_store=vector_store,\n",
    "    )\n",
    "\n",
    "# load your index from stored vectors\n",
    "index = VectorStoreIndex.from_vector_store(\n",
    "    vector_store=vector_store, \n",
    "    embed_model=embed_model,\n",
    "    storage_context=storage_context\n",
    ")"
   ]
  },
  {
   "cell_type": "markdown",
   "metadata": {},
   "source": [
    "# 🧐 The `QueryEngine`\n",
    "\n",
    "A Query Engine is a higher-level construct that uses an `Index` (and by extension, a `Retriever`) to answer queries. \n",
    "\n",
    "It not only retrieves the relevant data but also processes it to generate a response to the query. A `Query Engine` uses the `Retriever` to fetch data and then applies additional logic to generate a response.\n",
    "\n",
    "Here's what happens under the hood:\n",
    "\n",
    "- 📚 **Retrieval**: Find and return the most relevant documents from the `Index` using strategies like \"top-k\" semantic retrieval.\n",
    "\n",
    "- 🔧 **Postprocessing**: Optionally rerank, transform, or filter retrieved Nodes, often based on specific metadata like keywords.\n",
    "\n",
    "- 🔄 **Response Synthesis**: Combine the query, relevant data, and prompt to generate a response from your LLM.\n",
    "\n",
    "Note, there are [a wide variety of Query Engines](https://github.com/run-llama/llama_index/tree/main/llama-index-core/llama_index/core/query_engine) available in LlamaIndex. We won't touch on all of them in this course, but I encourage you to explore what's available and think of how you may be able to use them.\n"
   ]
  },
  {
   "cell_type": "code",
   "execution_count": 8,
   "metadata": {},
   "outputs": [
    {
     "name": "stdout",
     "output_type": "stream",
     "text": [
      "Sorry, I can't find any information about what the Sikh Stoics believe. Can I help you with anything else?"
     ]
    }
   ],
   "source": [
    "from llama_index.llms.cohere import Cohere\n",
    "\n",
    "llm = Cohere(model=\"command-r-plus\")\n",
    "\n",
    "query_engine = index.as_query_engine(llm=llm, streaming=True)\n",
    "\n",
    "response = query_engine.query(\n",
    "    \"What do the Sikh Stoics believe?\"\n",
    ")\n",
    "\n",
    "response.print_response_stream()"
   ]
  },
  {
   "cell_type": "code",
   "execution_count": 9,
   "metadata": {},
   "outputs": [
    {
     "data": {
      "text/plain": [
       "[NodeWithScore(node=TextNode(id_='67ba4894-ec0e-418a-94c7-518f4ab6a955', embedding=None, metadata={'file_path': 'data/pg10763.txt', 'file_name': 'pg10763.txt', 'file_type': 'text/plain', 'file_size': 405150, 'creation_date': '2025-07-24', 'last_modified_date': '2025-07-05'}, excluded_embed_metadata_keys=['file_name', 'file_type', 'file_size', 'creation_date', 'last_modified_date', 'last_accessed_date'], excluded_llm_metadata_keys=['file_name', 'file_type', 'file_size', 'creation_date', 'last_modified_date', 'last_accessed_date'], relationships={<NodeRelationship.SOURCE: '1'>: RelatedNodeInfo(node_id='data/pg10763.txt', node_type=<ObjectType.DOCUMENT: '4'>, metadata={'file_path': 'data/pg10763.txt', 'file_name': 'pg10763.txt', 'file_type': 'text/plain', 'file_size': 405150, 'creation_date': '2025-07-24', 'last_modified_date': '2025-07-05'}, hash='2e22f099825e416e7974219ee0934129b343fb779ba9c8e30930f7324644ed75'), <NodeRelationship.PREVIOUS: '2'>: RelatedNodeInfo(node_id='dae10462-cd48-4721-8b31-4cf6ae816277', node_type=<ObjectType.TEXT: '1'>, metadata={'file_path': 'data/pg10763.txt', 'file_name': 'pg10763.txt', 'file_type': 'text/plain', 'file_size': 405150, 'creation_date': '2025-07-24', 'last_modified_date': '2025-07-05'}, hash='1fe369ef064d5a281d81d3c5f8d570742ecfc9ac2bfd243d2cf4dbf89bd9ae4d'), <NodeRelationship.NEXT: '3'>: RelatedNodeInfo(node_id='5a284ff8-1556-4d03-aa77-77e963234b3f', node_type=<ObjectType.TEXT: '1'>, metadata={}, hash='858b98a2515d54c2ed846be07b8db2f750aad5a87956f97ee376926875550d58')}, text='We should not\\r\\ncondemn men in ignorance. As old as Aesop is the fable of the rebellion\\r\\nof the other members of the body against the idle unproductiveness of\\r\\nthe belly. In this passage the fable is used as an answer to the\\r\\nplebeians of Rome who have complained that the patricians are merely an\\r\\nencumbrance.\\r\\n\\r\\n\\r\\n  There was a time when all the body\\'s members\\r\\n  Rebelled against the belly; thus accused it:\\r\\n  That only like a gulf it did remain\\r\\n  I\\' the midst o\\' the body, idle and unactive,\\r\\n  Still cupboarding the viand, never bearing\\r\\n  Like labor with the rest, where the other instruments\\r\\n  Did see and hear, devise, instruct, walk, feel,\\r\\n  And, mutually participant, did minister\\r\\n  Unto the appetite and affection common\\r\\n  Of the whole body. Note me this, good friend;\\r\\n  Your most grave belly was deliberate,\\r\\n  Not rash like his accusers, and thus answered:\\r\\n  \"True is it, my incorporate friends,\" quoth he,\\r\\n  \"That I receive the general food at first,\\r\\n  Which you do live upon; and fit it is;\\r\\n  Because I am the store-house and the shop\\r\\n  Of the whole body: but, if you do remember,\\r\\n  I send it through the rivers of your blood,\\r\\n  Even to the court, the heart, to the seat o\\' the brain:\\r\\n  And, through the cranks and offices of man,\\r\\n  The strongest nerves and small inferior veins\\r\\n  From me receive that natural competency\\r\\n  Whereby they live. Though all at once cannot\\r\\n  See what I do deliver out to each,\\r\\n  Yet I can make my audit up, that all\\r\\n  From me do back receive the flour of all,\\r\\n  And leave me but the bran.\" What say you to \\'t?\\r\\n\\r\\n\\r\\n_William Shakespeare._\\r\\n\\r\\n\\r\\n\\r\\n\\r\\nTHE CELESTIAL SURGEON\\r\\n\\r\\n\\r\\nWe may acquire the resolution to be happy by resting on a bed of roses.\\r\\nIf that fails us, we should try a bed of nettles.\\r\\n\\r\\n\\r\\n  If I have faltered more or less\\r\\n  In my great task of happiness;\\r\\n  If I have moved among my race\\r\\n  And shown no glorious morning face;\\r\\n  If beams from happy human eyes\\r\\n  Have moved me not; if morning skies,\\r\\n  Books, and my food, and summer rain\\r\\n  Knocked on my sullen heart in vain:--\\r\\n  Lord, thy most pointed pleasure take\\r\\n  And stab my spirit broad awake;\\r\\n  Or, Lord, if too obdurate I,\\r\\n  Choose thou, before that spirit die,\\r\\n  A piercing pain, a killing sin,\\r\\n  And to my dead heart run them in!\\r\\n\\r\\n\\r\\n_Robert Louis Stevenson._\\r\\n\\r\\n\\r\\n\\r\\n\\r\\nMAN, BIRD, AND GOD\\r\\n\\r\\n\\r\\nRobert Bruce, despairing of his country\\'s cause, was aroused to new hope\\r\\nand purpose by the sight of a spider casting its lines until at last it\\r\\nhad one that held. In the following passage the poet, uncertain as to\\r\\nhis own future, yet trusts the providence which guides the birds in\\r\\ntheir long and uncharted migrations.\\r\\n\\r\\n\\r\\n  I go to prove my soul!\\r\\n  I see my way as birds their trackless way.\\r\\n  I shall arrive! what time, what circuit first,\\r\\n  I ask not: but unless God send his hail\\r\\n  Or blinding fireballs, sleet or stifling snow,\\r\\n  In some time, his good time, I shall arrive:\\r\\n  He guides me and the bird. In his good time!\\r\\n\\r\\n\\r\\n_Robert Browning._\\r\\n\\r\\n\\r\\n\\r\\n\\r\\nHIS ALLY\\r\\n\\r\\n\\r\\nThe thought of this poem is that a man\\'s best helper may be that which\\r\\ngives him no direct aid at all--a sense of humor.\\r\\n\\r\\n\\r\\n  He fought for his soul, and the stubborn fighting\\r\\n    Tried hard his strength.\\r\\n  \"One needs seven souls for this long requiting,\"\\r\\n    He said at length.\\r\\n\\r\\n  \"Six times have I come where my first hope jeered me\\r\\n    And laughed me to scorn;\\r\\n  But now I fear as I never feared me\\r\\n    To fall forsworn.\\r\\n\\r\\n  \"God! when they fight upright and at me\\r\\n    I give them back\\r\\n  Even such blows as theirs that combat me;\\r\\n    But now, alack!\\r\\n\\r\\n  \"They fight with the wiles of fiends escaping\\r\\n    And underhand.\\r\\n  Six times, O God, and my wounds are gaping!\\r\\n    I--reel to stand.\\r\\n\\r\\n  \"Six battles\\' span! By this gasping breath\\r\\n    No pantomime.\\r\\n  Tis all that I can. I am sick unto death.\\r\\n    And--a seventh time?\\r\\n\\r\\n  \"This is beyond all battles\\' soreness!\"', mimetype='text/plain', start_char_idx=230574, end_char_idx=234495, text_template='{metadata_str}\\n\\n{content}', metadata_template='{key}: {value}', metadata_seperator='\\n'), score=0.33858532),\n",
       " NodeWithScore(node=TextNode(id_='8cb69d08-0947-44df-82f0-bca7cad80bc4', embedding=None, metadata={'file_path': 'data/pg10763.txt', 'file_name': 'pg10763.txt', 'file_type': 'text/plain', 'file_size': 405150, 'creation_date': '2025-07-24', 'last_modified_date': '2025-07-05'}, excluded_embed_metadata_keys=['file_name', 'file_type', 'file_size', 'creation_date', 'last_modified_date', 'last_accessed_date'], excluded_llm_metadata_keys=['file_name', 'file_type', 'file_size', 'creation_date', 'last_modified_date', 'last_accessed_date'], relationships={<NodeRelationship.SOURCE: '1'>: RelatedNodeInfo(node_id='data/pg10763.txt', node_type=<ObjectType.DOCUMENT: '4'>, metadata={'file_path': 'data/pg10763.txt', 'file_name': 'pg10763.txt', 'file_type': 'text/plain', 'file_size': 405150, 'creation_date': '2025-07-24', 'last_modified_date': '2025-07-05'}, hash='2e22f099825e416e7974219ee0934129b343fb779ba9c8e30930f7324644ed75'), <NodeRelationship.PREVIOUS: '2'>: RelatedNodeInfo(node_id='cfdb752a-8ce4-496c-b69a-9b7729482420', node_type=<ObjectType.TEXT: '1'>, metadata={'file_path': 'data/pg10763.txt', 'file_name': 'pg10763.txt', 'file_type': 'text/plain', 'file_size': 405150, 'creation_date': '2025-07-24', 'last_modified_date': '2025-07-05'}, hash='9738fb76122657d57bfa0f073dac5a022b20c7243dc141a8e9ce664f33acf06c'), <NodeRelationship.NEXT: '3'>: RelatedNodeInfo(node_id='551c2a8d-285c-4983-9158-cf153f212926', node_type=<ObjectType.TEXT: '1'>, metadata={}, hash='90d9293669e481b35fabbf9ff59887193bbc773534532753744626ebed71b2b7')}, text='_St. Clair Adams._\\r\\n\\r\\n\\r\\n\\r\\n\\r\\nPHILOSOPHY FOR CROAKERS\\r\\n\\r\\n\\r\\nMany people seem to get pleasure in seeing all the bad there is, and in\\r\\nmaking everything about them gloomy. They are like the old woman who on\\r\\nbeing asked how her health was, replied: \"Thank the Lord, I\\'m poorly.\"\\r\\n\\r\\n\\r\\n  Some folks git a heap o\\' pleasure\\r\\n    Out o\\' lookin\\' glum;\\r\\n  Hoard their cares like it was treasure--\\r\\n    Fear they won\\'t have some.\\r\\n  Wear black border on their spirit;\\r\\n    Hang their hopes with crape;\\r\\n  Future\\'s gloomy and they fear it,\\r\\n    Sure there\\'s no escape.\\r\\n\\r\\n        Now there ain\\'t no use of whining\\r\\n          Weightin\\' joy with lead;\\r\\n        There is silver in the linin\\'\\r\\n          Somewhere on ahead.\\r\\n\\r\\n  Can\\'t enjoy the sun to-day--\\r\\n    It may rain to-morrow;\\r\\n  When a pain won\\'t come their way,\\r\\n    Future pains they borrow.\\r\\n  If there\\'s good news to be heard,\\r\\n    Ears are stuffed with cotton;\\r\\n  Evils dire are oft inferred;\\r\\n    Good is all forgotten.\\r\\n\\r\\n        When upon a peel I stand,\\r\\n          Slippin\\' like a goner,\\r\\n        Luck, I trust, will shake my hand\\r\\n          Just around the corner.\\r\\n\\r\\n  Keep a scarecrow in the yard,\\r\\n    Fierce old bulldog near \\'em;\\r\\n  Chase off joy that\\'s tryin\\' hard\\r\\n    To come in an\\' cheer \\'em.\\r\\n  Wear their blinders big and strong,\\r\\n    Dodge each happy sight;\\r\\n  Like to keep their faces long;\\r\\n    Think the day is night.\\r\\n\\r\\n        Now I\\'ve had my share of trouble;\\r\\n          Back been bent with ill;\\r\\n        Big load makes the joy seem double\\r\\n          When I mount the hill.\\r\\n\\r\\n  Got the toothache in their soul;\\r\\n    Corns upon their feelin\\'s;\\r\\n  Get their share but want the whole,\\r\\n    Say it\\'s crooked dealings.\\r\\n  Natures steeped in indigo;\\r\\n    Got their joy-wires crossed;\\r\\n  Swear it\\'s only weeds that grow;\\r\\n    Flowers always lost.\\r\\n\\r\\n        Now it\\'s best to sing a song\\r\\n          \\'Stead o\\' sit and mourn;\\r\\n        Rose you\\'ll find grows right along\\r\\n          Bigger than the thorn.\\r\\n\\r\\n  Beat the frogs the way they croak;\\r\\n    See with goggles blue--\\r\\n  Universe is cracked or broke,\\r\\n    \\'Bout to split in two.\\r\\n  Think the world is full of sin,\\r\\n    Soon go up the spout;\\r\\n  Badness always movin\\' in,\\r\\n    Goodness movin\\' out.\\r\\n\\r\\n        But I\\'ve found folks good and kind,\\r\\n          \\'Cause I thought they would be;\\r\\n        Most men try, at least I find,\\r\\n          To be what they should be.\\r\\n\\r\\n\\r\\n_Joseph Morris._\\r\\n\\r\\n\\r\\n\\r\\n\\r\\nTHE FIGHTING FAILURE\\r\\n\\r\\n\\r\\n\"I\\'m not a rabid, preachy, pollyanna optimist. Neither am I a gloomy\\r\\ngrouch. I believe in a loving Divine Providence Who expects you to play\\r\\nthe Game to the limit, Who wants you to hold tight to His hand, and Who\\r\\ncompensates you for the material losses by giving you the ability to\\r\\nretain your sense of values, and keep your spiritual sand out of the\\r\\nbearings of your physical machine, if you\\'ll trust and--\\'Keep Sweet,\\r\\nKeep Cheerful, or else--Keep Still\\'\"--_Everard Jack Appleton_.\\r\\n\\r\\n\\r\\nHe has come the way of the fighting men, and fought by the rules of the\\r\\n          Game,\\r\\nAnd out of Life he has gathered--What? A living,--and little fame,\\r\\nEver and ever the Goal looms near,--seeming each time worth while;\\r\\nBut ever it proves a mirage fair--ever the grim gods smile.\\r\\nAnd so, with lips hard set and white, he buries the hope that is gone,--\\r\\nHis fight is lost--and he knows it is lost--and yet he is fighting on.\\r\\n\\r\\nOut of the smoke of the battle-line watching men win their way,\\r\\nAnd, cheering with those who cheer success, he enters again the fray,\\r\\nLicking the blood and the dust from his lips, wiping the sweat from his\\r\\n          eyes,\\r\\nHe does the work he is set to do--and \"therein honor lies.\"\\r\\nBrave they were, these men he cheered,--theirs is the winners\\' thrill;\\r\\n_His_ fight is lost--and he knows it is lost--and yet he is fighting still.\\r\\n\\r\\nAnd those who won have rest and peace; and those who died have more;\\r\\nBut, weary and spent, he can not stop seeking the ultimate score;\\r\\nCourage was theirs for a little time,--but what of the man who sees\\r\\nThat he must lose, yet will not beg mercy upon his knees?', mimetype='text/plain', start_char_idx=80283, end_char_idx=84349, text_template='{metadata_str}\\n\\n{content}', metadata_template='{key}: {value}', metadata_seperator='\\n'), score=0.33463603)]"
      ]
     },
     "execution_count": 9,
     "metadata": {},
     "output_type": "execute_result"
    }
   ],
   "source": [
    "response.source_nodes"
   ]
  },
  {
   "cell_type": "code",
   "execution_count": 10,
   "metadata": {},
   "outputs": [
    {
     "data": {
      "text/plain": [
       "'We should not\\r\\ncondemn men in ignorance. As old as Aesop is the fable of the rebellion\\r\\nof the other members of the body against the idle unproductiveness of\\r\\nthe belly. In this passage the fable is used as an answer to the\\r\\nplebeians of Rome who have complained that the patricians are merely an\\r\\nencumbrance.\\r\\n\\r\\n\\r\\n  There was a time when all the body\\'s members\\r\\n  Rebelled against the belly; thus accused it:\\r\\n  That only like a gulf it did remain\\r\\n  I\\' the midst o\\' the body, idle and unactive,\\r\\n  Still cupboarding the viand, never bearing\\r\\n  Like labor with the rest, where the other instruments\\r\\n  Did see and hear, devise, instruct, walk, feel,\\r\\n  And, mutually participant, did minister\\r\\n  Unto the appetite and affection common\\r\\n  Of the whole body. Note me this, good friend;\\r\\n  Your most grave belly was deliberate,\\r\\n  Not rash like his accusers, and thus answered:\\r\\n  \"True is it, my incorporate friends,\" quoth he,\\r\\n  \"That I receive the general food at first,\\r\\n  Which you do live upon; and fit it is;\\r\\n  Because I am the store-house and the shop\\r\\n  Of the whole body: but, if you do remember,\\r\\n  I send it through the rivers of your blood,\\r\\n  Even to the court, the heart, to the seat o\\' the brain:\\r\\n  And, through the cranks and offices of man,\\r\\n  The strongest nerves and small inferior veins\\r\\n  From me receive that natural competency\\r\\n  Whereby they live. Though all at once cannot\\r\\n  See what I do deliver out to each,\\r\\n  Yet I can make my audit up, that all\\r\\n  From me do back receive the flour of all,\\r\\n  And leave me but the bran.\" What say you to \\'t?\\r\\n\\r\\n\\r\\n_William Shakespeare._\\r\\n\\r\\n\\r\\n\\r\\n\\r\\nTHE CELESTIAL SURGEON\\r\\n\\r\\n\\r\\nWe may acquire the resolution to be happy by resting on a bed of roses.\\r\\nIf that fails us, we should try a bed of nettles.\\r\\n\\r\\n\\r\\n  If I have faltered more or less\\r\\n  In my great task of happiness;\\r\\n  If I have moved among my race\\r\\n  And shown no glorious morning face;\\r\\n  If beams from happy human eyes\\r\\n  Have moved me not; if morning skies,\\r\\n  Books, and my food, and summer rain\\r\\n  Knocked on my sullen heart in vain:--\\r\\n  Lord, thy most pointed pleasure take\\r\\n  And stab my spirit broad awake;\\r\\n  Or, Lord, if too obdurate I,\\r\\n  Choose thou, before that spirit die,\\r\\n  A piercing pain, a killing sin,\\r\\n  And to my dead heart run them in!\\r\\n\\r\\n\\r\\n_Robert Louis Stevenson._\\r\\n\\r\\n\\r\\n\\r\\n\\r\\nMAN, BIRD, AND GOD\\r\\n\\r\\n\\r\\nRobert Bruce, despairing of his country\\'s cause, was aroused to new hope\\r\\nand purpose by the sight of a spider casting its lines until at last it\\r\\nhad one that held. In the following passage the poet, uncertain as to\\r\\nhis own future, yet trusts the providence which guides the birds in\\r\\ntheir long and uncharted migrations.\\r\\n\\r\\n\\r\\n  I go to prove my soul!\\r\\n  I see my way as birds their trackless way.\\r\\n  I shall arrive! what time, what circuit first,\\r\\n  I ask not: but unless God send his hail\\r\\n  Or blinding fireballs, sleet or stifling snow,\\r\\n  In some time, his good time, I shall arrive:\\r\\n  He guides me and the bird. In his good time!\\r\\n\\r\\n\\r\\n_Robert Browning._\\r\\n\\r\\n\\r\\n\\r\\n\\r\\nHIS ALLY\\r\\n\\r\\n\\r\\nThe thought of this poem is that a man\\'s best helper may be that which\\r\\ngives him no direct aid at all--a sense of humor.\\r\\n\\r\\n\\r\\n  He fought for his soul, and the stubborn fighting\\r\\n    Tried hard his strength.\\r\\n  \"One needs seven souls for this long requiting,\"\\r\\n    He said at length.\\r\\n\\r\\n  \"Six times have I come where my first hope jeered me\\r\\n    And laughed me to scorn;\\r\\n  But now I fear as I never feared me\\r\\n    To fall forsworn.\\r\\n\\r\\n  \"God! when they fight upright and at me\\r\\n    I give them back\\r\\n  Even such blows as theirs that combat me;\\r\\n    But now, alack!\\r\\n\\r\\n  \"They fight with the wiles of fiends escaping\\r\\n    And underhand.\\r\\n  Six times, O God, and my wounds are gaping!\\r\\n    I--reel to stand.\\r\\n\\r\\n  \"Six battles\\' span! By this gasping breath\\r\\n    No pantomime.\\r\\n  Tis all that I can. I am sick unto death.\\r\\n    And--a seventh time?\\r\\n\\r\\n  \"This is beyond all battles\\' soreness!\"'"
      ]
     },
     "execution_count": 10,
     "metadata": {},
     "output_type": "execute_result"
    }
   ],
   "source": [
    "response.source_nodes[0].get_text()"
   ]
  },
  {
   "cell_type": "code",
   "execution_count": 11,
   "metadata": {},
   "outputs": [
    {
     "data": {
      "text/plain": [
       "'_St. Clair Adams._\\r\\n\\r\\n\\r\\n\\r\\n\\r\\nPHILOSOPHY FOR CROAKERS\\r\\n\\r\\n\\r\\nMany people seem to get pleasure in seeing all the bad there is, and in\\r\\nmaking everything about them gloomy. They are like the old woman who on\\r\\nbeing asked how her health was, replied: \"Thank the Lord, I\\'m poorly.\"\\r\\n\\r\\n\\r\\n  Some folks git a heap o\\' pleasure\\r\\n    Out o\\' lookin\\' glum;\\r\\n  Hoard their cares like it was treasure--\\r\\n    Fear they won\\'t have some.\\r\\n  Wear black border on their spirit;\\r\\n    Hang their hopes with crape;\\r\\n  Future\\'s gloomy and they fear it,\\r\\n    Sure there\\'s no escape.\\r\\n\\r\\n        Now there ain\\'t no use of whining\\r\\n          Weightin\\' joy with lead;\\r\\n        There is silver in the linin\\'\\r\\n          Somewhere on ahead.\\r\\n\\r\\n  Can\\'t enjoy the sun to-day--\\r\\n    It may rain to-morrow;\\r\\n  When a pain won\\'t come their way,\\r\\n    Future pains they borrow.\\r\\n  If there\\'s good news to be heard,\\r\\n    Ears are stuffed with cotton;\\r\\n  Evils dire are oft inferred;\\r\\n    Good is all forgotten.\\r\\n\\r\\n        When upon a peel I stand,\\r\\n          Slippin\\' like a goner,\\r\\n        Luck, I trust, will shake my hand\\r\\n          Just around the corner.\\r\\n\\r\\n  Keep a scarecrow in the yard,\\r\\n    Fierce old bulldog near \\'em;\\r\\n  Chase off joy that\\'s tryin\\' hard\\r\\n    To come in an\\' cheer \\'em.\\r\\n  Wear their blinders big and strong,\\r\\n    Dodge each happy sight;\\r\\n  Like to keep their faces long;\\r\\n    Think the day is night.\\r\\n\\r\\n        Now I\\'ve had my share of trouble;\\r\\n          Back been bent with ill;\\r\\n        Big load makes the joy seem double\\r\\n          When I mount the hill.\\r\\n\\r\\n  Got the toothache in their soul;\\r\\n    Corns upon their feelin\\'s;\\r\\n  Get their share but want the whole,\\r\\n    Say it\\'s crooked dealings.\\r\\n  Natures steeped in indigo;\\r\\n    Got their joy-wires crossed;\\r\\n  Swear it\\'s only weeds that grow;\\r\\n    Flowers always lost.\\r\\n\\r\\n        Now it\\'s best to sing a song\\r\\n          \\'Stead o\\' sit and mourn;\\r\\n        Rose you\\'ll find grows right along\\r\\n          Bigger than the thorn.\\r\\n\\r\\n  Beat the frogs the way they croak;\\r\\n    See with goggles blue--\\r\\n  Universe is cracked or broke,\\r\\n    \\'Bout to split in two.\\r\\n  Think the world is full of sin,\\r\\n    Soon go up the spout;\\r\\n  Badness always movin\\' in,\\r\\n    Goodness movin\\' out.\\r\\n\\r\\n        But I\\'ve found folks good and kind,\\r\\n          \\'Cause I thought they would be;\\r\\n        Most men try, at least I find,\\r\\n          To be what they should be.\\r\\n\\r\\n\\r\\n_Joseph Morris._\\r\\n\\r\\n\\r\\n\\r\\n\\r\\nTHE FIGHTING FAILURE\\r\\n\\r\\n\\r\\n\"I\\'m not a rabid, preachy, pollyanna optimist. Neither am I a gloomy\\r\\ngrouch. I believe in a loving Divine Providence Who expects you to play\\r\\nthe Game to the limit, Who wants you to hold tight to His hand, and Who\\r\\ncompensates you for the material losses by giving you the ability to\\r\\nretain your sense of values, and keep your spiritual sand out of the\\r\\nbearings of your physical machine, if you\\'ll trust and--\\'Keep Sweet,\\r\\nKeep Cheerful, or else--Keep Still\\'\"--_Everard Jack Appleton_.\\r\\n\\r\\n\\r\\nHe has come the way of the fighting men, and fought by the rules of the\\r\\n          Game,\\r\\nAnd out of Life he has gathered--What? A living,--and little fame,\\r\\nEver and ever the Goal looms near,--seeming each time worth while;\\r\\nBut ever it proves a mirage fair--ever the grim gods smile.\\r\\nAnd so, with lips hard set and white, he buries the hope that is gone,--\\r\\nHis fight is lost--and he knows it is lost--and yet he is fighting on.\\r\\n\\r\\nOut of the smoke of the battle-line watching men win their way,\\r\\nAnd, cheering with those who cheer success, he enters again the fray,\\r\\nLicking the blood and the dust from his lips, wiping the sweat from his\\r\\n          eyes,\\r\\nHe does the work he is set to do--and \"therein honor lies.\"\\r\\nBrave they were, these men he cheered,--theirs is the winners\\' thrill;\\r\\n_His_ fight is lost--and he knows it is lost--and yet he is fighting still.\\r\\n\\r\\nAnd those who won have rest and peace; and those who died have more;\\r\\nBut, weary and spent, he can not stop seeking the ultimate score;\\r\\nCourage was theirs for a little time,--but what of the man who sees\\r\\nThat he must lose, yet will not beg mercy upon his knees?'"
      ]
     },
     "execution_count": 11,
     "metadata": {},
     "output_type": "execute_result"
    }
   ],
   "source": [
    "response.source_nodes[1].get_text()"
   ]
  },
  {
   "cell_type": "markdown",
   "metadata": {},
   "source": [
    "### Streaming response"
   ]
  },
  {
   "cell_type": "code",
   "execution_count": 12,
   "metadata": {},
   "outputs": [
    {
     "name": "stdout",
     "output_type": "stream",
     "text": [
      "The poems by Rudyard Kipling in this book are:\n",
      "- *Departmental Ditties*\n",
      "- *Barrack-Room Ballads*\n",
      "- *If*\n",
      "- *When Earth's Last Picture Is Painted*"
     ]
    }
   ],
   "source": [
    "response = query_engine.query(\n",
    "    \"What poems by Rudyard Kipling are in this book?\"\n",
    ")\n",
    "\n",
    "response.print_response_stream()"
   ]
  },
  {
   "cell_type": "markdown",
   "metadata": {},
   "source": [
    "### 💬 Chat Engine"
   ]
  },
  {
   "cell_type": "code",
   "execution_count": 13,
   "metadata": {},
   "outputs": [
    {
     "name": "stdout",
     "output_type": "stream",
     "text": [
      "===== Entering Chat REPL =====\n",
      "Type \"exit\" to exit.\n",
      "\n",
      "Assistant:  Rudyard Kipling's poems cover a diverse range of themes and ideas. His poetry explores the depths of human experiences and emotions, touching on life, death, courage, and nature. Kipling also delves into the realms of war, travel, and adventure, often with a sense of optimism. His works provide a window into the varied aspects of the human condition and the world around us.\n",
      "\n"
     ]
    }
   ],
   "source": [
    "chat_engine = index.as_chat_engine(llm=llm)\n",
    "\n",
    "chat_engine.streaming_chat_repl()"
   ]
  },
  {
   "cell_type": "markdown",
   "metadata": {},
   "source": [
    "### Chat modes\n",
    "\n",
    "#### Simple\n",
    "\n",
    "Chat with LLM, without making use of a knowledge base. To use this mode set `chat_mode=\"simple\"`.\n",
    "\n",
    "Corresponds to [`SimpleChatEngine`](https://github.com/run-llama/llama_index/blob/main/llama-index-core/llama_index/core/chat_engine/simple.py). \n",
    "\n",
    "#### Condense question\n",
    "\n",
    "Generate a standalone question from the conversation context and the last message. Then, ask the query engine for a response. To use this mode set `chat_mode=\"condense_question\"`.\n",
    "\n",
    "Corresponds to [`CondenseQuestionChatEngine`](https://github.com/run-llama/llama_index/blob/main/llama-index-core/llama_index/core/chat_engine/condense_question.py).\n",
    "\n",
    "#### Context \n",
    "\n",
    "Retrieve text from the index based on the user's message. Utilize this context to formulate a response. To use this mode set `chat_mode=\"context\"`.\n",
    "\n",
    "Corresponds to [`ContextChatEngine`](https://github.com/run-llama/llama_index/blob/main/llama-index-core/llama_index/core/chat_engine/context.py).\n",
    "\n",
    "#### Condense plus context\n",
    "\n",
    "Condense a conversation and latest user message to a standalone question. Then build a context for the standalone question from a retriever. Finally, pass the context along with prompt and user message to LLM to generate a response. To use this mode set `chat_mode=\"condense_plus_context\"`.\n",
    "\n",
    "Corresponds to [`CondensePlusContextChatEngine`](https://github.com/run-llama/llama_index/blob/main/llama-index-core/llama_index/core/chat_engine/condense_plus_context.py).\n",
    "\n",
    "#### ReACT\n",
    "Corresponds to [`ReActAgent`](https://github.com/run-llama/llama_index/blob/37c95965426bddae82cec1ad49d3aa82e8bfe819/llama-index-core/llama_index/core/agent/react/base.py#L36).\n",
    "\n",
    "Use a ReAct agent loop with query engine tools. To use this mode set `chat_mode=\"react\"`.\n",
    "\n",
    "#### Best\n",
    "\n",
    "Select the best chat engine based on the current LLM. To use this mode set `chat_mode=\"best\"`.\n",
    "\n",
    "Corresponds to `OpenAIAgent` if using an OpenAI model that supports function calling API, otherwise, corresponds to `ReActAgent`."
   ]
  },
  {
   "cell_type": "code",
   "execution_count": 14,
   "metadata": {},
   "outputs": [
    {
     "name": "stdout",
     "output_type": "stream",
     "text": [
      "===== Entering Chat REPL =====\n",
      "Type \"exit\" to exit.\n",
      "\n"
     ]
    }
   ],
   "source": [
    "from llama_index.core.memory import ChatMemoryBuffer\n",
    "\n",
    "memory = ChatMemoryBuffer.from_defaults(token_limit=1500)\n",
    "\n",
    "chat_engine = index.as_chat_engine(\n",
    "    llm=llm,\n",
    "    chat_mode=\"context\",\n",
    "    memory=memory,\n",
    "    system_prompt=(\n",
    "        \"You are a chatbot, able to have normal interactions, as well as talk\"\n",
    "        \" about a book of poems called 'It Can Be Done'.\"\n",
    "    ),\n",
    ")\n",
    "\n",
    "chat_engine.streaming_chat_repl()"
   ]
  },
  {
   "cell_type": "markdown",
   "metadata": {},
   "source": [
    "# Customizing Querying\n",
    "\n",
    "- 🔧 **Customizing Retrieval**: Use LlamaIndex's low-level composition API to adjust `top_k` value for more granular control over query results.\n",
    "\n",
    "- 📈 **Adding Post-Processing**: Implement a step to ensure only nodes meeting a minimum similarity score are included, balancing between data richness and relevance.\n",
    "\n",
    "- 🎚️ **SimilarityPostprocessor**: Set a similarity score threshold, compatible only with embedding-based retrievers, to ensure high relevance."
   ]
  },
  {
   "cell_type": "code",
   "execution_count": 15,
   "metadata": {},
   "outputs": [],
   "source": [
    "from llama_index.core import get_response_synthesizer\n",
    "from llama_index.core.retrievers import VectorIndexRetriever\n",
    "from llama_index.core.query_engine import RetrieverQueryEngine\n",
    "from llama_index.core.postprocessor import SimilarityPostprocessor\n",
    "\n",
    "# configure a retriever\n",
    "retriever = VectorIndexRetriever(\n",
    "    index=index,\n",
    "    similarity_top_k=10,\n",
    ")\n",
    "\n",
    "# configure a post processor\n",
    "similarity_processor = SimilarityPostprocessor(similarity_cutoff=0.42)\n",
    "\n",
    "# configure a response sythesizer\n",
    "response_synthsizer = get_response_synthesizer(llm=llm)\n",
    "\n",
    "# create a query engine\n",
    "query_engine = RetrieverQueryEngine(\n",
    "    retriever=retriever,\n",
    "    response_synthesizer=response_synthsizer,\n",
    "    node_postprocessors=[similarity_processor],\n",
    ")"
   ]
  },
  {
   "cell_type": "code",
   "execution_count": 16,
   "metadata": {},
   "outputs": [
    {
     "data": {
      "text/plain": [
       "Response(response='Empty Response', source_nodes=[], metadata=None)"
      ]
     },
     "execution_count": 16,
     "metadata": {},
     "output_type": "execute_result"
    }
   ],
   "source": [
    "query_engine.query(\"Compare the portrayal of internal versus external battles in the narratives and poems\")"
   ]
  },
  {
   "cell_type": "code",
   "execution_count": 17,
   "metadata": {},
   "outputs": [],
   "source": [
    "client.close()"
   ]
  }
 ],
 "metadata": {
  "kernelspec": {
   "display_name": "lil_llama_index",
   "language": "python",
   "name": "python3"
  },
  "language_info": {
   "codemirror_mode": {
    "name": "ipython",
    "version": 3
   },
   "file_extension": ".py",
   "mimetype": "text/x-python",
   "name": "python",
   "nbconvert_exporter": "python",
   "pygments_lexer": "ipython3",
   "version": "3.10.18"
  }
 },
 "nbformat": 4,
 "nbformat_minor": 2
}
