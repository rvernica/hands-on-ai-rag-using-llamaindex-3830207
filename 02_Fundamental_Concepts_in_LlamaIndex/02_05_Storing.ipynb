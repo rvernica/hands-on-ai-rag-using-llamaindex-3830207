{
 "cells": [
  {
   "cell_type": "code",
   "execution_count": null,
   "metadata": {},
   "outputs": [],
   "source": [
    "%%capture\n",
    "# !pip install llama-index==0.10.37 cohere==5.5.0 openai==1.30.1 llama-index-embeddings-openai==0.1.9 llama-index-llms-cohere==0.2.0 qdrant-client==1.9.1 llama-index-vector-stores-qdrant==0.2.8 "
   ]
  },
  {
   "cell_type": "code",
   "execution_count": 2,
   "metadata": {},
   "outputs": [
    {
     "data": {
      "text/plain": [
       "True"
      ]
     },
     "execution_count": 2,
     "metadata": {},
     "output_type": "execute_result"
    }
   ],
   "source": [
    "import os\n",
    "\n",
    "from getpass import getpass\n",
    "import nest_asyncio\n",
    "\n",
    "from dotenv import load_dotenv\n",
    "\n",
    "nest_asyncio.apply()\n",
    "\n",
    "load_dotenv()"
   ]
  },
  {
   "cell_type": "code",
   "execution_count": 3,
   "metadata": {},
   "outputs": [],
   "source": [
    "CO_API_KEY = os.environ['CO_API_KEY'] or getpass(\"Enter your Cohere API key: \")"
   ]
  },
  {
   "cell_type": "code",
   "execution_count": null,
   "metadata": {},
   "outputs": [],
   "source": [
    "# OPENAI_API_KEY = os.environ['OPENAI_API_KEY'] or getpass(\"Enter your OpenAI API key: \")"
   ]
  },
  {
   "cell_type": "code",
   "execution_count": 4,
   "metadata": {},
   "outputs": [],
   "source": [
    "QDRANT_URL = os.environ['QDRANT_URL'] or getpass(\"Enter your Qdrant URL:\")"
   ]
  },
  {
   "cell_type": "code",
   "execution_count": 5,
   "metadata": {},
   "outputs": [],
   "source": [
    "QDRANT_API_KEY = os.environ['QDRANT_API_KEY'] or  getpass(\"Enter your Qdrant API Key:\")"
   ]
  },
  {
   "cell_type": "code",
   "execution_count": 6,
   "metadata": {},
   "outputs": [
    {
     "name": "stdout",
     "output_type": "stream",
     "text": [
      "Directory 'data' created successfully.\n"
     ]
    }
   ],
   "source": [
    "from pathlib import Path\n",
    "\n",
    "def create_directory(directory_name):\n",
    "    path = Path(directory_name)\n",
    "    path.mkdir(parents=True, exist_ok=True)\n",
    "    print(f\"Directory '{directory_name}' created successfully.\")\n",
    "\n",
    "create_directory(\"data\")"
   ]
  },
  {
   "cell_type": "code",
   "execution_count": 7,
   "metadata": {},
   "outputs": [
    {
     "name": "stdout",
     "output_type": "stream",
     "text": [
      "--2025-07-24 16:56:35--  https://www.gutenberg.org/cache/epub/10763/pg10763.txt\n",
      "Resolving www.gutenberg.org (www.gutenberg.org)... 152.19.134.47, 2610:28:3090:3000:0:bad:cafe:47\n",
      "Connecting to www.gutenberg.org (www.gutenberg.org)|152.19.134.47|:443... connected.\n",
      "HTTP request sent, awaiting response... 200 OK\n",
      "Length: 405150 (396K) [text/plain]\n",
      "Saving to: ‘data/pg10763.txt’\n",
      "\n",
      "pg10763.txt         100%[===================>] 395.65K  2.00MB/s    in 0.2s    \n",
      "\n",
      "2025-07-24 16:56:35 (2.00 MB/s) - ‘data/pg10763.txt’ saved [405150/405150]\n",
      "\n"
     ]
    }
   ],
   "source": [
    "!wget -P data https://www.gutenberg.org/cache/epub/10763/pg10763.txt "
   ]
  },
  {
   "cell_type": "markdown",
   "metadata": {},
   "source": [
    "# 🗄️ Storing\n",
    "\n",
    "Loading and indexing data costs time and money.\n",
    "\n",
    "By default, indexed data is stored in memory. But, you can store your data to avoid the time and costs associated with re-indexing them.  The simplest way to do this **persisting to disk**.\n",
    "\n",
    "Each `Index` object has a `.persist()` method, which will write all the data to disk at the specified location."
   ]
  },
  {
   "cell_type": "markdown",
   "metadata": {},
   "source": [
    "Now that we've dowloaded data, let's:\n",
    "\n",
    "1) Load as Document\n",
    "2) Parse as Nodes\n",
    "3) Create index"
   ]
  },
  {
   "cell_type": "code",
   "execution_count": 8,
   "metadata": {},
   "outputs": [
    {
     "name": "stderr",
     "output_type": "stream",
     "text": [
      "[nltk_data] Downloading package punkt_tab to\n",
      "[nltk_data]     /opt/conda/envs/lil_llama_index/lib/python3.10/site-\n",
      "[nltk_data]     packages/llama_index/core/_static/nltk_cache...\n",
      "[nltk_data]   Package punkt_tab is already up-to-date!\n"
     ]
    }
   ],
   "source": [
    "from llama_index.core import SimpleDirectoryReader\n",
    "\n",
    "file_path = \"data/pg10763.txt\"\n",
    "\n",
    "document = SimpleDirectoryReader(input_files=[file_path], filename_as_id=True).load_data()"
   ]
  },
  {
   "cell_type": "code",
   "execution_count": 9,
   "metadata": {},
   "outputs": [],
   "source": [
    "# Create Node parser\n",
    "from llama_index.core.node_parser import SentenceSplitter\n",
    "\n",
    "sentence_splitter = SentenceSplitter(\n",
    "    chunk_size=512, \n",
    "    chunk_overlap=16,\n",
    "    paragraph_separator=\"\\n\\n\\n\\n\" \n",
    ")"
   ]
  },
  {
   "cell_type": "code",
   "execution_count": null,
   "metadata": {},
   "outputs": [],
   "source": [
    "# Instantiate embedding model\n",
    "from llama_index.embeddings.openai import OpenAIEmbedding\n",
    "\n",
    "# embed_model = OpenAIEmbedding(model_name=\"text-embedding-3-small\")"
   ]
  },
  {
   "cell_type": "code",
   "execution_count": 15,
   "metadata": {},
   "outputs": [],
   "source": [
    "from llama_index.embeddings.cohere import CohereEmbedding\n",
    "\n",
    "embed_model = CohereEmbedding(model_name=\"embed-english-v3.0\")"
   ]
  },
  {
   "cell_type": "markdown",
   "metadata": {},
   "source": [
    "# ☁️ Using a Vector Database\n",
    "\n",
    "We'll use qdrant as our vector database of choice throughout this course.\n",
    "\n",
    "To use qdrant to store embeddings from the `VectorStoreIndex`, you need to:\n",
    "\n",
    "- Initialize the qdrant client\n",
    "\n",
    "- Create a `Collection` to store your data in qdrant\n",
    "\n",
    "- Assign qdrant as the `vector_store` in a `StorageContext`\n",
    "\n",
    "- Initialize your `VectorStoreIndex` using that `StorageContext`\n",
    "\n",
    "Below, we initialize a `QdrantClient` for interacting with qdrant, an open-source vector store. \n"
   ]
  },
  {
   "cell_type": "code",
   "execution_count": 16,
   "metadata": {},
   "outputs": [],
   "source": [
    "import qdrant_client\n",
    "from llama_index.vector_stores.qdrant import QdrantVectorStore\n",
    "\n",
    "# initialize qdrant client\n",
    "client = qdrant_client.QdrantClient(\n",
    "    url=QDRANT_URL, \n",
    "    api_key=QDRANT_API_KEY,\n",
    ")\n",
    "\n",
    "vector_store = QdrantVectorStore(\n",
    "    client=client, \n",
    "    collection_name=\"it_can_be_done\",\n",
    "    embed_model=embed_model,\n",
    ")"
   ]
  },
  {
   "cell_type": "markdown",
   "metadata": {},
   "source": [
    "# 🗃️ Storage Context\n",
    "\n",
    "`StorageContext` in `LlamaIndex` is a core abstraction that revolves around the storage of `Nodes`, indices, and vectors.  It facilitates data storage and retrieval.\n",
    "\n",
    "It is a utility container that supports the following:\n",
    "\n",
    " - `docstore`: A [`BaseDocumentStore`](https://github.com/run-llama/llama_index/blob/main/llama-index-core/llama_index/core/storage/docstore/types.py) for storing nodes.\n",
    "\n",
    " - `index_store`: A [`BaseIndexStore`](https://github.com/run-llama/llama_index/blob/main/llama-index-core/llama_index/core/storage/index_store/types.py#L13) for storing indices.\n",
    "\n",
    " - `vector_store`: A [`VectorStore`](https://github.com/run-llama/llama_index/blob/main/llama-index-core/llama_index/core/vector_stores/simple.py) for storing vectors.\n",
    "\n",
    " - `graph_store`: A [`GraphStore`](https://github.com/run-llama/llama_index/blob/main/llama-index-core/llama_index/core/graph_stores/simple.py) for storing knowledge graphs.\n",
    "\n",
    "Below we instantiate the `StorageContext` from default settings indicating that we want to use a vector store."
   ]
  },
  {
   "cell_type": "code",
   "execution_count": 17,
   "metadata": {},
   "outputs": [],
   "source": [
    "from llama_index.core import StorageContext\n",
    "\n",
    "# assign qdrant vector store to storage context\n",
    "storage_context = StorageContext.from_defaults(\n",
    "    vector_store=vector_store,\n",
    "    )"
   ]
  },
  {
   "cell_type": "code",
   "execution_count": 18,
   "metadata": {},
   "outputs": [
    {
     "data": {
      "application/vnd.jupyter.widget-view+json": {
       "model_id": "39edc2724b394f31b22e5e2e5cb93b09",
       "version_major": 2,
       "version_minor": 0
      },
      "text/plain": [
       "Parsing nodes:   0%|          | 0/1 [00:00<?, ?it/s]"
      ]
     },
     "metadata": {},
     "output_type": "display_data"
    },
    {
     "data": {
      "application/vnd.jupyter.widget-view+json": {
       "model_id": "788616eed2b241f0b4685af0c8837ee4",
       "version_major": 2,
       "version_minor": 0
      },
      "text/plain": [
       "Generating embeddings:   0%|          | 0/126 [00:00<?, ?it/s]"
      ]
     },
     "metadata": {},
     "output_type": "display_data"
    }
   ],
   "source": [
    "from llama_index.core import  VectorStoreIndex\n",
    "\n",
    "# create the index\n",
    "index = VectorStoreIndex.from_documents(\n",
    "    document,\n",
    "    show_progress=True,\n",
    "    store_nodes_override=True,\n",
    "    transformation=[sentence_splitter],\n",
    "    embed_model=embed_model,\n",
    "    storage_context=storage_context,\n",
    ")"
   ]
  },
  {
   "cell_type": "markdown",
   "metadata": {},
   "source": [
    "# 🪃 Retrieval\n",
    "\n",
    "A `Retriever` is an interface exposed by the `Index`. An `Index` with its `Retriever` is used for storing and fetching data. The `Retriever` is a part of the `Index` and is used to retrieve the data stored in the Index.\n",
    "\n",
    "\n",
    "### LlamaIndex provides [many different types of retrievers](https://github.com/run-llama/llama_index/tree/main/llama-index-core/llama_index/core/retrievers) to fetch relevant information from ingested data based on a given query. \n",
    "\n",
    "Some examples include\n",
    "\n",
    "### Vector Retriever\n",
    "\n",
    "The vector retriever uses vector similarity search to find the most relevant nodes (chunks of text) based on the query embedding. It requires a vector database like to store and search through the node embeddings.\n",
    "\n",
    "### [Fusion Retriever](https://github.com/run-llama/llama_index/blob/main/llama-index-core/llama_index/core/retrievers/fusion_retriever.py)\n",
    "\n",
    "The fusion retriever generates multiple queries from the original query, performs retrieval over an ensemble of retrievers for each query, and then fuses and reranks the results across all queries. This aims to better capture the query intent through query rewriting and ensembling.\n",
    "\n",
    "### [Recursive Retriever](https://github.com/run-llama/llama_index/blob/main/llama-index-core/llama_index/core/retrievers/recursive_retriever.py)\n",
    "\n",
    "The recursive retriever allows for hierarchical retrieval by first retrieving coarse nodes and then recursively retrieving finer-grained nodes within those coarse nodes. This can be useful for multi-level indexing and retrieval.\n",
    "\n",
    "You can also combine retrievers in interesting ways and build out more advanced retrieval strategies, as we will see later in this course.\n",
    "\n",
    "\n",
    "### In the example here, we're using a Vector Retriever\n",
    "\n",
    " - 🔍 When searching, your query is also converted into a vector embedding. \n",
    " \n",
    "- 🗂️ The `VectorStoreIndex` then performs a mathematical operation to rank embeddings based on semantic similarity to your query.\n",
    "\n",
    "- 🔝 Top-k semantic retrieval is the simplest wasy to query a vector index.\n",
    "\n",
    "- ⩬ You can also apply a similarity threshold  (e.g., only return results that are more similar than some value)\n"
   ]
  },
  {
   "cell_type": "code",
   "execution_count": 19,
   "metadata": {},
   "outputs": [],
   "source": [
    "retirever = index.as_retriever(\n",
    "    similarity_top_k=5,\n",
    "    similarity_threshold=0.75)"
   ]
  },
  {
   "cell_type": "code",
   "execution_count": 20,
   "metadata": {},
   "outputs": [
    {
     "data": {
      "text/plain": [
       "[NodeWithScore(node=TextNode(id_='b135c767-9bbf-4f3f-8f91-e6f89d88faa4', embedding=None, metadata={'file_path': 'data/pg10763.txt', 'file_name': 'pg10763.txt', 'file_type': 'text/plain', 'file_size': 405150, 'creation_date': '2025-07-24', 'last_modified_date': '2025-07-05'}, excluded_embed_metadata_keys=['file_name', 'file_type', 'file_size', 'creation_date', 'last_modified_date', 'last_accessed_date'], excluded_llm_metadata_keys=['file_name', 'file_type', 'file_size', 'creation_date', 'last_modified_date', 'last_accessed_date'], relationships={<NodeRelationship.SOURCE: '1'>: RelatedNodeInfo(node_id='data/pg10763.txt', node_type=<ObjectType.DOCUMENT: '4'>, metadata={'file_path': 'data/pg10763.txt', 'file_name': 'pg10763.txt', 'file_type': 'text/plain', 'file_size': 405150, 'creation_date': '2025-07-24', 'last_modified_date': '2025-07-05'}, hash='2e22f099825e416e7974219ee0934129b343fb779ba9c8e30930f7324644ed75'), <NodeRelationship.PREVIOUS: '2'>: RelatedNodeInfo(node_id='b6fc5767-dff7-4ee5-98ad-f747ab038dc9', node_type=<ObjectType.TEXT: '1'>, metadata={'file_path': 'data/pg10763.txt', 'file_name': 'pg10763.txt', 'file_type': 'text/plain', 'file_size': 405150, 'creation_date': '2025-07-24', 'last_modified_date': '2025-07-05'}, hash='b0a49ff74d9f0b5aad93f936e458089256540b8728feb471e7e123d1003fa58e'), <NodeRelationship.NEXT: '3'>: RelatedNodeInfo(node_id='51ca4e9d-fda0-49ce-a80a-3aa4c2af9155', node_type=<ObjectType.TEXT: '1'>, metadata={}, hash='1ea42dbd12ed3d2e0ae199b7b4a7f86943c8bdfe1b47d18ee19c53f6977c4ccf')}, text='_Percy Bysshe Shelley._\\r\\n\\r\\n\\r\\n\\r\\n\\r\\nVICTORY IN DEFEAT\\r\\n\\r\\n\\r\\nThe great, radiant souls of earth--the Davids, the Shakespeares, the\\r\\nLincolns--know grief and affliction as well as joy and triumph. But\\r\\nadversity is never to them mere adversity; it\\r\\n\\r\\n  \"Doth suffer a sea-change\\r\\n  Into something rich and strange\";\\r\\n\\r\\nand in the crucible of character their suffering itself is transmuted\\r\\ninto song.\\r\\n\\r\\n\\r\\n  Defeat may serve as well as victory\\r\\n  To shake the soul and let the glory out.\\r\\n  When the great oak is straining in the wind,\\r\\n  The boughs drink in new beauty, and the trunk\\r\\n  Sends down a deeper root on the windward side.\\r\\n  Only the soul that knows the mighty grief\\r\\n  Can know the mighty rapture. Sorrows come\\r\\n  To stretch out spaces in the heart for joy.\\r\\n\\r\\n\\r\\n_Edwin Markham._\\r\\n\\r\\nFrom \"The Shoes of Happiness, and Other Poems.\"\\r\\n\\r\\n\\r\\n\\r\\n\\r\\nTHE RICHER MINES\\r\\n\\r\\n\\r\\nNo man is so poor but that he is a stockholder. Yet many a man has no\\r\\nreal riches; his stocks draw dividends in dollars and cents only.\\r\\n\\r\\n\\r\\n  When it comes to buying shares\\r\\n    In the mines of earth,\\r\\n  May I join the millionaires\\r\\n    Who are rich in mirth.\\r\\n\\r\\n  Let me have a heavy stake\\r\\n    In fresh mountain air--\\r\\n  I will promise now to take\\r\\n    All that you can spare.\\r\\n\\r\\n  When you\\'re setting up your claim\\r\\n    In the Mines of Glee,\\r\\n  Don\\'t forget to use my name--\\r\\n    You can count on me.\\r\\n\\r\\n  Nothing better can be won,\\r\\n    Freer from alloy,\\r\\n  Than a bouncing claim in \"Con-\\r\\n    Solidated Joy.\"\\r\\n\\r\\n  You can have your Copper Stocks\\r\\n    Gold and tin and coal--\\r\\n  What I\\'d have within my box\\r\\n    Has to do with Soul.\\r\\n\\r\\n_John Kendrick Bangs._\\r\\n\\r\\nFrom \"Songs of Cheer.\"\\r\\n\\r\\n\\r\\n\\r\\n\\r\\nBRAVE LIFE\\r\\n\\r\\n\\r\\nTo be absolutely without physical fear may not be the highest courage;\\r\\nto shrink and quake, and yet stand at one\\'s post, may be braver still.\\r\\nSo of success. It lies less in the attainment of some external end than\\r\\nin holding yourself to your purposes and ideals; for out of high loyalty\\r\\nand effort comes that intangible thing called character, which is no\\r\\nmere symbol of success, but success itself.\\r\\n\\r\\n\\r\\n  I do not know what I shall find on out beyond the final fight;\\r\\n  I do not know what I shall meet beyond the last barrage of night;\\r\\n  Nor do I care--but this I know--if I but serve within the fold\\r\\n  And play the game--I\\'ll be prepared for all the endless years may hold.\\r\\n\\r\\n  Life is a training camp at best for what may wait beyond the years;\\r\\n  A training camp of toiling days and nights that lean to dreams and tears;\\r\\n  But each may come upon the goal, and build his soul above all Fate\\r\\n  By holding an unbroken faith and taking Courage for a mate.\\r\\n\\r\\n  Is not the fight itself enough that man must look to some behest?\\r\\n  Wherein does Failure miss Success if all engaged but do their best?\\r\\n  Where does the Victor\\'s cry come in for wreath of fame or laureled brow\\r\\n  If one he vanquished fought as well as weaker muscle would allow?\\r\\n\\r\\n  If my opponent in the fray should prove to be a stronger foe--\\r\\n  Not of his making--but because the Destinies ordained it so;\\r\\n  If he should win--and I should lose--although I did my utmost part,\\r\\n  Is my reward the less than his if he should strive with equal heart?\\r\\n\\r\\n  Brave Life, I hold, is something more than driving upward to the peak;\\r\\n  Than smashing madly through the strong, and crashing onward through the\\r\\n            weak;\\r\\n  I hold the man who makes his fight against the raw game\\'s crushing odds\\r\\n  Is braver than his brothers are who hold the favor of the gods.\\r\\n\\r\\n  On by the sky line, faint and vague, in that Far Country all must know,\\r\\n  No laurel crown of fame may wait beyond the sunset\\'s glow;\\r\\n  But life has given me the chance to train and serve within the fold,\\r\\n  To meet the test--and be prepared for all the endless years may hold.\\r\\n\\r\\n\\r\\n_Grantland Rice._\\r\\n\\r\\nFrom \"The Sportlight.\"\\r\\n\\r\\n\\r\\n\\r\\n\\r\\nA SONG OF TO-MORROW\\r\\n\\r\\n\\r\\nA night\\'s sleep and a new day--these are excellent things to look\\r\\nforward to when one is weary or in trouble.\\r\\n\\r\\n\\r\\n  Li\\'l bit er trouble,\\r\\n    Honey, fer terday;\\r\\n  Yander come Termorrer--\\r\\n    Shine it all away!', mimetype='text/plain', start_char_idx=275191, end_char_idx=279297, text_template='{metadata_str}\\n\\n{content}', metadata_template='{key}: {value}', metadata_seperator='\\n'), score=0.5768789),\n",
       " NodeWithScore(node=TextNode(id_='22598abd-4da8-4cee-b715-13ab4ff91dbe', embedding=None, metadata={'file_path': 'data/pg10763.txt', 'file_name': 'pg10763.txt', 'file_type': 'text/plain', 'file_size': 405150, 'creation_date': '2025-07-24', 'last_modified_date': '2025-07-05'}, excluded_embed_metadata_keys=['file_name', 'file_type', 'file_size', 'creation_date', 'last_modified_date', 'last_accessed_date'], excluded_llm_metadata_keys=['file_name', 'file_type', 'file_size', 'creation_date', 'last_modified_date', 'last_accessed_date'], relationships={<NodeRelationship.SOURCE: '1'>: RelatedNodeInfo(node_id='data/pg10763.txt', node_type=<ObjectType.DOCUMENT: '4'>, metadata={'file_path': 'data/pg10763.txt', 'file_name': 'pg10763.txt', 'file_type': 'text/plain', 'file_size': 405150, 'creation_date': '2025-07-24', 'last_modified_date': '2025-07-05'}, hash='2e22f099825e416e7974219ee0934129b343fb779ba9c8e30930f7324644ed75'), <NodeRelationship.PREVIOUS: '2'>: RelatedNodeInfo(node_id='a8a59ba5-e274-4d49-8b6d-693f8551b66c', node_type=<ObjectType.TEXT: '1'>, metadata={'file_path': 'data/pg10763.txt', 'file_name': 'pg10763.txt', 'file_type': 'text/plain', 'file_size': 405150, 'creation_date': '2025-07-24', 'last_modified_date': '2025-07-05'}, hash='a4a074dc607d812c5dd57009edc80feabba0ae77977219502cff166d23a0891f'), <NodeRelationship.NEXT: '3'>: RelatedNodeInfo(node_id='f8beff49-2fb8-4885-a4ab-d9c84c0f9633', node_type=<ObjectType.TEXT: '1'>, metadata={}, hash='2c0c3e340e7835a21b8e3c27343139b5d9abf1ad51b51eb6824738806071dae4')}, text='UNSUBDUED\\r\\n\\r\\n\\r\\n\"An artist\\'s career,\" said Whistler, \"always begins to-morrow.\" So does\\r\\nthe career of any man of courage and imagination. The Eden of such a man\\r\\ndoes not lie in yesterday. If he has done well, he forgets his\\r\\nachievements and dreams of the big deeds ahead. If he has been thwarted,\\r\\nhe forgets his failures and looks forward to vast, sure successes. If\\r\\nfate itself opposes him, he defies it. Farragut\\'s fleet was forcing an\\r\\nentrance into Mobile Bay. One of the vessels struck something, a\\r\\nterrific explosion followed, the vessel went down. \"Torpedoes, sir.\"\\r\\nThey scanned the face of the commander-in-chief. But Farragut did not\\r\\nhesitate. \"Damn the torpedoes,\" said he. \"Go ahead.\"\\r\\n\\r\\n\\r\\n  I have hoped, I have planned, I have striven,\\r\\n    To the will I have added the deed;\\r\\n  The best that was in me I\\'ve given,\\r\\n    I have prayed, but the gods would not heed.\\r\\n\\r\\n  I have dared and reached only disaster,\\r\\n    I have battled and broken my lance;\\r\\n  I am bruised by a pitiless master\\r\\n    That the weak and the timid call Chance.\\r\\n\\r\\n  I am old, I am bent, I am cheated\\r\\n    Of all that Youth urged me to win;\\r\\n  But name me not with the defeated,\\r\\n    To-morrow again, I begin.\\r\\n\\r\\n\\r\\n_S.E. Kiser._\\r\\n\\r\\nFrom \"Poems That Have Helped Me.\"\\r\\n\\r\\n\\r\\n\\r\\n\\r\\nWORK\\r\\n\\r\\n\"A SONG OF TRIUMPH\"\\r\\n\\r\\n\\r\\nWhen Captain John Smith was made the leader of the colonists at\\r\\nJamestown, Va., he discouraged the get-rich-quick seekers of gold by\\r\\nannouncing flatly, \"He who will not work shall not eat.\" This rule made\\r\\nof Jamestown the first permanent English settlement in the New World.\\r\\nBut work does more than lead to material success. It gives an outlet\\r\\nfrom sorrow, restrains wild desires, ripens and refines character,\\r\\nenables human beings to cooperate with God, and when well done, brings\\r\\nto life its consummate satisfaction. Every man is a Prince of\\r\\nPossibilities, but by work alone can he come into his Kingship.\\r\\n\\r\\n\\r\\n  Work!\\r\\n  Thank God for the might of it,\\r\\n  The ardor, the urge, the delight of it--\\r\\n  Work that springs from the heart\\'s desire,\\r\\n  Setting the brain and the soul on fire--\\r\\n  Oh, what is so good as the heat of it,\\r\\n  And what is so glad as the beat of it,\\r\\n  And what is so kind as the stern command,\\r\\n  Challenging brain and heart and hand?\\r\\n\\r\\n  Work!\\r\\n  Thank God for the pride of it,\\r\\n  For the beautiful, conquering tide of it.\\r\\n  Sweeping the life in its furious flood,\\r\\n  Thrilling the arteries, cleansing the blood,\\r\\n  Mastering stupor and dull despair,\\r\\n  Moving the dreamer to do and dare.\\r\\n  Oh, what is so good as the urge of it,\\r\\n  And what is so glad as the surge of it,\\r\\n  And what is so strong as the summons deep,\\r\\n  Rousing the torpid soul from sleep?\\r\\n\\r\\n  Work!\\r\\n  Thank God for the pace of it,\\r\\n  For the terrible, keen, swift race of it;\\r\\n  Fiery steeds in full control,\\r\\n  Nostrils a-quiver to greet the goal.\\r\\n  Work, the Power that drives behind,\\r\\n  Guiding the purposes, taming the mind,\\r\\n  Holding the runaway wishes back,\\r\\n  Reining the will to one steady track,\\r\\n  Speeding the energies faster, faster,\\r\\n  Triumphing over disaster.\\r\\n  Oh, what is so good as the pain of it,\\r\\n  And what is so great as the gain of it?\\r\\n  And what is so kind as the cruel goad,\\r\\n  Forcing us on through the rugged road?\\r\\n\\r\\n  Work!\\r\\n  Thank God for the swing of it,\\r\\n  For the clamoring, hammering ring of it,\\r\\n  Passion and labor daily hurled\\r\\n  On the mighty anvils of the world.\\r\\n  Oh, what is so fierce as the flame of it?\\r\\n  And what is so huge as the aim of it?\\r\\n  Thundering on through dearth and doubt,\\r\\n  Calling the plan of the Maker out.\\r\\n  Work, the Titan; Work, the friend,\\r\\n  Shaping the earth to a glorious end,\\r\\n  Draining the swamps and blasting the hills,\\r\\n  Doing whatever the Spirit wills--\\r\\n  Rending a continent apart,\\r\\n  To answer the dream of the Master heart.\\r\\n  Thank God for a world where none may shirk--\\r\\n  Thank God for the splendor of work!', mimetype='text/plain', start_char_idx=41137, end_char_idx=45039, text_template='{metadata_str}\\n\\n{content}', metadata_template='{key}: {value}', metadata_seperator='\\n'), score=0.5556389),\n",
       " NodeWithScore(node=TextNode(id_='011e338f-664b-46f9-86ca-a0b256e941fd', embedding=None, metadata={'file_path': 'data/pg10763.txt', 'file_name': 'pg10763.txt', 'file_type': 'text/plain', 'file_size': 405150, 'creation_date': '2025-07-24', 'last_modified_date': '2025-07-05'}, excluded_embed_metadata_keys=['file_name', 'file_type', 'file_size', 'creation_date', 'last_modified_date', 'last_accessed_date'], excluded_llm_metadata_keys=['file_name', 'file_type', 'file_size', 'creation_date', 'last_modified_date', 'last_accessed_date'], relationships={<NodeRelationship.SOURCE: '1'>: RelatedNodeInfo(node_id='data/pg10763.txt', node_type=<ObjectType.DOCUMENT: '4'>, metadata={'file_path': 'data/pg10763.txt', 'file_name': 'pg10763.txt', 'file_type': 'text/plain', 'file_size': 405150, 'creation_date': '2025-07-24', 'last_modified_date': '2025-07-05'}, hash='2e22f099825e416e7974219ee0934129b343fb779ba9c8e30930f7324644ed75'), <NodeRelationship.PREVIOUS: '2'>: RelatedNodeInfo(node_id='1a84eabb-852f-4d5a-b03a-f4338bbd4af0', node_type=<ObjectType.TEXT: '1'>, metadata={'file_path': 'data/pg10763.txt', 'file_name': 'pg10763.txt', 'file_type': 'text/plain', 'file_size': 405150, 'creation_date': '2025-07-24', 'last_modified_date': '2025-07-05'}, hash='844f6b7562a459087f4202027886af453574ab0032b1fbea1a7f0aaf3226c0d1'), <NodeRelationship.NEXT: '3'>: RelatedNodeInfo(node_id='cf4fe0f4-3499-4176-a877-5e53d745b80a', node_type=<ObjectType.TEXT: '1'>, metadata={}, hash='814ae154736e305dee17e52f0cf348ee0b558b250660d5fce1b181ea6dd6cfbc')}, text='Gates_\\r\\n\\r\\n\\r\\n\\r\\n\\r\\n\\r\\nIT CAN BE DONE\\r\\n\\r\\n\\r\\n\\r\\n\\r\\nBE THE BEST OF WHATEVER YOU ARE\\r\\n\\r\\n\\r\\nWe all dream of great deeds and high positions, away from the pettiness\\r\\nand humdrum of ordinary life. Yet success is not occupying a lofty place\\r\\nor doing conspicuous work; it is being the best that is in you. Rattling\\r\\naround in too big a job is much worse than filling a small one to\\r\\noverflowing. Dream, aspire by all means; but do not ruin the life you\\r\\nmust lead by dreaming pipe-dreams of the one you would like to lead.\\r\\nMake the most of what you have and are. Perhaps your trivial, immediate\\r\\ntask is your one sure way of proving your mettle. Do the thing near at\\r\\nhand, and great things will come to your hand to be done.\\r\\n\\r\\n\\r\\n  If you can\\'t be a pine on the top of the hill\\r\\n    Be a scrub in the valley--but be\\r\\n  The best little scrub by the side of the rill;\\r\\n    Be a bush if you can\\'t be a tree.\\r\\n\\r\\n  If you can\\'t be a bush be a bit of the grass,\\r\\n    And some highway some happier make;\\r\\n  If you can\\'t be a muskie then just be a bass--\\r\\n    But the liveliest bass in the lake!\\r\\n\\r\\n  We can\\'t all be captains, we\\'ve got to be crew,\\r\\n    There\\'s something for all of us here.\\r\\n  There\\'s big work to do and there\\'s lesser to do,\\r\\n    And the task we must do is the near.\\r\\n\\r\\n  If you can\\'t be a highway then just be a trail,\\r\\n    If you can\\'t be the sun be a star;\\r\\n  It isn\\'t by size that you win or you fail--\\r\\n    Be the best of whatever you are!\\r\\n\\r\\n\\r\\n_Douglas Malloch._\\r\\n\\r\\n\\r\\n\\r\\n\\r\\nTHE HOUSE BY THE SIDE OF THE ROAD\\r\\n\\r\\n\\r\\nThis poem has as its keynote friendship and sympathy for other people.\\r\\nIt is a paradox of life that by hoarding love and happiness we lose\\r\\nthem, and that only by giving them away can we keep them for ourselves.\\r\\nThe more we share, the more we possess. We of course find in other\\r\\npeople weaknesses and sins, but our best means of curing these are\\r\\nthrough a wise and sympathetic understanding.\\r\\n\\r\\n\\r\\n  Let me live in a house by the side of the road,\\r\\n    Where the race of men go by--\\r\\n  The men who are good and the men who are bad,\\r\\n    As good and as bad as I.\\r\\n  I would not sit in the scorner\\'s seat,\\r\\n    Or hurl the cynic\\'s ban;--\\r\\n  Let me live in a house by the side of the road\\r\\n    And be a friend to man.\\r\\n\\r\\n  I see from my house by the side of the road,\\r\\n    By the side of the highway of life,\\r\\n  The men who press with the ardor of hope,\\r\\n    The men who are faint with the strife.\\r\\n  But I turn not away from their smiles nor their tears--\\r\\n    Both parts of an infinite plan;--\\r\\n  Let me live in my house by the side of the road\\r\\n    And be a friend to man.\\r\\n\\r\\n  I know there are brook-gladdened meadows ahead\\r\\n    And mountains of wearisome height;\\r\\n  And the road passes on through the long afternoon\\r\\n    And stretches away to the night.\\r\\n  But still I rejoice when the travelers rejoice,\\r\\n    And weep with the strangers that moan,\\r\\n  Nor live in my house by the side of the road\\r\\n    Like a man who dwells alone.\\r\\n\\r\\n  Let me live in my house by the side of the road\\r\\n    Where the race of men go by--\\r\\n  They are good, they are bad, they are weak, they are strong,\\r\\n    Wise, foolish--so am I.\\r\\n  Then why should I sit in the scorner\\'s seat\\r\\n    Or hurl the cynic\\'s ban?--\\r\\n  Let me live in my house by the side of the road\\r\\n    And be a friend to man.\\r\\n\\r\\n\\r\\n_Sam Walter Foss._\\r\\n\\r\\nFrom \"Dreams in Homespun.\"\\r\\n\\r\\n\\r\\n\\r\\n\\r\\nFOUR THINGS\\r\\n\\r\\n\\r\\nWhat are the qualities of ideal manhood? Various people have given\\r\\nvarious answers to this question. Here the poet states what qualities he\\r\\nthinks indispensable.\\r\\n\\r\\n\\r\\n  Four things a man must learn to do\\r\\n  If he would make his record true:\\r\\n  To think without confusion clearly;\\r\\n  To love his fellow-men sincerely;\\r\\n  To act from honest motives purely;\\r\\n  To trust in God and Heaven securely.\\r\\n\\r\\n\\r\\n_Henry Van Dyke._\\r\\n\\r\\nFrom \"Collected Poems.\"\\r\\n\\r\\n\\r\\n\\r\\n\\r\\nIF\\r\\n\\r\\n\\r\\nThe central idea of this poem is that success comes from self-control\\r\\nand a true sense of the values of things. In extremes lies danger.', mimetype='text/plain', start_char_idx=18153, end_char_idx=22124, text_template='{metadata_str}\\n\\n{content}', metadata_template='{key}: {value}', metadata_seperator='\\n'), score=0.51845837),\n",
       " NodeWithScore(node=TextNode(id_='967202e9-ee34-4dad-9a12-f8f87a0f9bdb', embedding=None, metadata={'file_path': 'data/pg10763.txt', 'file_name': 'pg10763.txt', 'file_type': 'text/plain', 'file_size': 405150, 'creation_date': '2025-07-24', 'last_modified_date': '2025-07-05'}, excluded_embed_metadata_keys=['file_name', 'file_type', 'file_size', 'creation_date', 'last_modified_date', 'last_accessed_date'], excluded_llm_metadata_keys=['file_name', 'file_type', 'file_size', 'creation_date', 'last_modified_date', 'last_accessed_date'], relationships={<NodeRelationship.SOURCE: '1'>: RelatedNodeInfo(node_id='data/pg10763.txt', node_type=<ObjectType.DOCUMENT: '4'>, metadata={'file_path': 'data/pg10763.txt', 'file_name': 'pg10763.txt', 'file_type': 'text/plain', 'file_size': 405150, 'creation_date': '2025-07-24', 'last_modified_date': '2025-07-05'}, hash='2e22f099825e416e7974219ee0934129b343fb779ba9c8e30930f7324644ed75'), <NodeRelationship.PREVIOUS: '2'>: RelatedNodeInfo(node_id='807c85f2-db31-4200-b866-cdc2f234e845', node_type=<ObjectType.TEXT: '1'>, metadata={'file_path': 'data/pg10763.txt', 'file_name': 'pg10763.txt', 'file_type': 'text/plain', 'file_size': 405150, 'creation_date': '2025-07-24', 'last_modified_date': '2025-07-05'}, hash='b8682eef707156205e8f2d581aa18937ba9085f060e69e887b6836b248c3fbfe'), <NodeRelationship.NEXT: '3'>: RelatedNodeInfo(node_id='c570f3ce-f8c8-4a08-a2cc-6e5fde135c97', node_type=<ObjectType.TEXT: '1'>, metadata={}, hash='262de0899b9e3e223c37c1a7dae97a705e3bbbc33ddabee3ab4c8381093336db')}, text='\"O statue, tell your name,\" a traveler cried,\\r\\n  And solemnly the marble lips replied:\\r\\n  \"Men call me Opportunity: I lift\\r\\n  My winged feet from earth to show how swift\\r\\n  My flight, how short my stay--\\r\\n  How Fate is ever waiting on the way.\"\\r\\n\\r\\n  \"But why that tossing ringlet on your brow?\"\\r\\n  \"That men may seize me any moment: _Now_,\\r\\n  NOW is my other name: to-day my date:\\r\\n  O traveler, to-morrow is too late!\"\\r\\n\\r\\n\\r\\n_Edwin Markham._\\r\\n\\r\\nFrom \"The Gates of Paradise, and Other Poems.\"\\r\\n\\r\\n\\r\\n\\r\\n\\r\\nTO A YOUNG MAN\\r\\n\\r\\n\\r\\n\"Jones write a book! Impossible! I knew his father.\" This attitude\\r\\ntowards distinction of any sort, whether in authorship or in the field\\r\\nof action, is characteristic of many of us. We think transcendent\\r\\nability is entirely above and apart from the things of ordinary life.\\r\\nYet genius itself has been defined as common sense in an uncommon\\r\\ndegree. The great men are human. Shakespeare remembered this when he\\r\\nsaid, \"I think the king is but a man as I am.\" We should take heart at\\r\\nthe thought that since the great are like us, we may develop ourselves\\r\\nuntil we are like them.\\r\\n\\r\\n\\r\\n  The great were once as you.\\r\\n  They whom men magnify to-day\\r\\n  Once groped and blundered on life\\'s way,\\r\\n  Were fearful of themselves, and thought\\r\\n  By magic was men\\'s greatness wrought.\\r\\n  They feared to try what they could do;\\r\\n  Yet Fame hath crowned with her success\\r\\n  The selfsame gifts that you possess.\\r\\n\\r\\n  The great were young as you,\\r\\n  Dreaming the very dreams you hold,\\r\\n  Longing yet fearing to be bold,\\r\\n  Doubting that they themselves possessed\\r\\n  The strength and skill for every test,\\r\\n  Uncertain of the truths they knew,\\r\\n  Not sure that they could stand to fate\\r\\n  With all the courage of the great.\\r\\n\\r\\n  Then came a day when they\\r\\n  Their first bold venture made,\\r\\n  Scorning to cry for aid.\\r\\n  They dared to stand to fight alone,\\r\\n  Took up the gauntlet life had thrown,\\r\\n  Charged full-front to the fray,\\r\\n  Mastered their fear of self, and then\\r\\n  Learned that our great men are but men.\\r\\n\\r\\n  Oh, Youth, go forth and do!\\r\\n  You, too, to fame may rise;\\r\\n  You can be strong and wise.\\r\\n  Stand up to life and play the man--\\r\\n  You can if you\\'ll but think you can;\\r\\n  The great were once as you.\\r\\n  You envy them their proud success?\\r\\n  \\'Twas won with gifts that you possess.\\r\\n\\r\\n\\r\\n_Edgar A. Guest._\\r\\n\\r\\n\\r\\n\\r\\n\\r\\nSLOGAN\\r\\n\\r\\n\\r\\nSome men want ideal conditions with pay in advance before they will\\r\\nwork. But the world does not want such men, and has little place for\\r\\nthem.\\r\\n\\r\\n\\r\\n  Don\\'t prate about what is your right,\\r\\n  But bare your fists and show your might;\\r\\n  Life is another man to fight\\r\\n  Catch as catch can.\\r\\n\\r\\n  Don\\'t talk of Life as scurvy Fate,\\r\\n  Who gave you favors just too late,\\r\\n  Or Luck who threw you smiles for bait\\r\\n  Before he ran.\\r\\n\\r\\n  Don\\'t whine and wish that you were dead,\\r\\n  But wrestle for your daily bread,\\r\\n  And afterward let it be said\\r\\n  \"He was a man.\"\\r\\n\\r\\n\\r\\n_Jane M\\'Lean._\\r\\n\\r\\n\\r\\n\\r\\n\\r\\nSMILES\\r\\n\\r\\n\\r\\nSmiles bring out the latent energies within us, as water reveals the\\r\\nbright colors in the stone it flows over.\\r\\n\\r\\n\\r\\n  Smile a little, smile a little,\\r\\n    As you go along,\\r\\n  Not alone when life is pleasant,\\r\\n    But when things go wrong.\\r\\n  Care delights to see you frowning,\\r\\n    Loves to hear you sigh;\\r\\n  Turn a smiling face upon her,\\r\\n    Quick the dame will fly.\\r\\n\\r\\n  Smile a little, smile a little,\\r\\n    All along the road;\\r\\n  Every life must have its burden,\\r\\n    Every heart its load.\\r\\n  Why sit down in gloom and darkness,\\r\\n    With your grief to sup?\\r\\n  As you drink Fate\\'s bitter tonic\\r\\n    Smile across the cup.\\r\\n\\r\\n  Smile upon the troubled pilgrims\\r\\n    Whom you pass and meet;\\r\\n  Frowns are thorns, and smiles are blossoms\\r\\n    Oft for weary feet.\\r\\n  Do not make the way seem harder\\r\\n    By a sullen face,\\r\\n  Smile a little, smile a little,\\r\\n    Brighten up the place.\\r\\n\\r\\n  Smile upon your undone labor;\\r\\n    Not for one who grieves\\r\\n  O\\'er his task, waits wealth or glory;\\r\\n    He who smiles achieves.', mimetype='text/plain', start_char_idx=326828, end_char_idx=330801, text_template='{metadata_str}\\n\\n{content}', metadata_template='{key}: {value}', metadata_seperator='\\n'), score=0.50880617),\n",
       " NodeWithScore(node=TextNode(id_='7cb10bef-aa1f-4fb9-942f-f1dc5bf60ec8', embedding=None, metadata={'file_path': 'data/pg10763.txt', 'file_name': 'pg10763.txt', 'file_type': 'text/plain', 'file_size': 405150, 'creation_date': '2025-07-24', 'last_modified_date': '2025-07-05'}, excluded_embed_metadata_keys=['file_name', 'file_type', 'file_size', 'creation_date', 'last_modified_date', 'last_accessed_date'], excluded_llm_metadata_keys=['file_name', 'file_type', 'file_size', 'creation_date', 'last_modified_date', 'last_accessed_date'], relationships={<NodeRelationship.SOURCE: '1'>: RelatedNodeInfo(node_id='data/pg10763.txt', node_type=<ObjectType.DOCUMENT: '4'>, metadata={'file_path': 'data/pg10763.txt', 'file_name': 'pg10763.txt', 'file_type': 'text/plain', 'file_size': 405150, 'creation_date': '2025-07-24', 'last_modified_date': '2025-07-05'}, hash='2e22f099825e416e7974219ee0934129b343fb779ba9c8e30930f7324644ed75'), <NodeRelationship.PREVIOUS: '2'>: RelatedNodeInfo(node_id='31f10dc7-b178-4909-9275-a58e97484313', node_type=<ObjectType.TEXT: '1'>, metadata={'file_path': 'data/pg10763.txt', 'file_name': 'pg10763.txt', 'file_type': 'text/plain', 'file_size': 405150, 'creation_date': '2025-07-24', 'last_modified_date': '2025-07-05'}, hash='ba9e50da3763149bbc56a67f0182e090a7fd657925a4b69772f16f04fc4e3b19'), <NodeRelationship.NEXT: '3'>: RelatedNodeInfo(node_id='2acb8e80-1f2b-450c-92b0-3aef05ba799c', node_type=<ObjectType.TEXT: '1'>, metadata={}, hash='39be01092137de42539779de59df85974013a80577b408bf726ed3d32be03ed6')}, text='Laugh like a boy at splendors that have sped,\\r\\n    To vanished joys be blind and deaf and dumb;\\r\\n  My judgments seal the dead past with its dead,\\r\\n    But never bind a moment yet to come.\\r\\n\\r\\n  Though deep in mire, wring not your hands and weep;\\r\\n    I lend my arm to all who say \"I can!\"\\r\\n  No shame-faced outcast ever sank so deep,\\r\\n    But yet might rise and be again a man!\\r\\n\\r\\n  Dost thou behold thy lost youth all aghast?\\r\\n    Dost reel from righteous Retribution\\'s blow?\\r\\n  Then turn from blotted archives of the past,\\r\\n    And find the future\\'s pages white as snow.\\r\\n\\r\\n  Art thou a mourner? Rouse thee from thy spell;\\r\\n    Art thou a sinner? Sins may be forgiven;\\r\\n  Each morning gives thee wings to flee from hell,\\r\\n    Each night a star to guide thy feet to heaven.\\r\\n\\r\\n\\r\\n_Walter Malone._\\r\\n\\r\\n\\r\\n\\r\\n\\r\\nOPPORTUNITY\\r\\n\\r\\n\\r\\nIn this poem yet another view of opportunity is presented. The recreant\\r\\nor the dreamer complains that he has no real chance. He would succeed,\\r\\nhe says, if he had but the implements of success--money, influence,\\r\\nsocial prestige, and the like. But success lies far less in implements\\r\\nthan in the use we make of them. What one man throws away as useless,\\r\\nanother man seizes as the best means of victory at hand. For every one\\r\\nof us the materials for achievement are sufficient. The spirit that\\r\\nprompts us is what ultimately counts.\\r\\n\\r\\n\\r\\n  This I beheld, or dreamed it in a dream:--\\r\\n  There spread a cloud of dust along a plain;\\r\\n  And underneath the cloud, or in it, raged\\r\\n  A furious battle, and men yelled, and swords\\r\\n  Shocked upon swords and shields. A prince\\'s banner\\r\\n  Wavered, then staggered backward, hemmed by foes.\\r\\n  A craven hung along the battle\\'s edge,\\r\\n  And thought, \"Had I a sword of keener steel--\\r\\n  That blue blade that the king\\'s son bears,--but this\\r\\n  Blunt thing--!\" he snapt and flung it from his hand,\\r\\n  And lowering crept away and left the field.\\r\\n  Then came the king\\'s son, wounded, sore bestead,\\r\\n  And weaponless, and saw the broken sword,\\r\\n  Hilt-buried in the dry and trodden sand,\\r\\n  And ran and snatched it, and with battle-shout\\r\\n  Lifted afresh he hewed his enemy down,\\r\\n  And saved a great cause that heroic day.\\r\\n\\r\\n\\r\\n_Edward Rowland Sill._\\r\\n\\r\\nFrom \"Poems.\"\\r\\n\\r\\n\\r\\n\\r\\n[Illustration: JAMES WHITCOMB RILEY]\\r\\n\\r\\n\\r\\n\\r\\n\\r\\nMY PHILOSOPHY\\r\\n\\r\\n\\r\\nThough dogs persist in barking at the moon, the moon\\'s business is not\\r\\nto answer the dogs or to waste strength placating them, but simply to\\r\\nshine. The man who strives or succeeds is sure to be criticized. Is he\\r\\ntherefore to abstain from all effort? We are responsible for our own\\r\\nlives and cannot regulate them according to other people\\'s ideas. \"Whoso\\r\\nwould be a man,\" says Emerson, \"must be a nonconformist.\"\\r\\n\\r\\n\\r\\n  I allus argy that a man\\r\\n  Who does about the best he can\\r\\n  Is plenty good enugh to suit\\r\\n  This lower mundane institute--\\r\\n  No matter ef his daily walk\\r\\n  Is subject fer his neghbor\\'s talk,\\r\\n  And critic-minds of ev\\'ry whim\\r\\n  Jest all git up and go fer him!\\r\\n\\r\\n       *       *       *       *       *\\r\\n\\r\\n  It\\'s natchurl enugh, I guess,\\r\\n  When some gits more and some gits less,\\r\\n  Fer them-uns on the slimmest side\\r\\n  To claim it ain\\'t a fare divide;\\r\\n  And I\\'ve knowed some to lay and wait,\\r\\n  And git up soon, and set up late,\\r\\n  To ketch some feller they could hate\\r\\n  For goin\\' at a faster gait.\\r\\n\\r\\n       *       *       *       *       *\\r\\n\\r\\n  My doctern is to lay aside\\r\\n  Contensions, and be satisfied:\\r\\n  Jest do your best, and praise er blame\\r\\n  That follers that, counts jest the same.\\r\\n  I\\'ve allus noticed grate success\\r\\n  Is mixed with troubles, more er less,\\r\\n  And it\\'s the man who does the best\\r\\n  That gits more kicks than all the rest.\\r\\n\\r\\n\\r\\n_James Whitcomb Riley._\\r\\n\\r\\nFrom the Biographical Edition\\r\\nOf the Complete Works of James Whitcomb Riley.\\r\\n\\r\\n\\r\\n\\r\\n\\r\\nULYSSES\\r\\n\\r\\n\\r\\nThis volume consists chiefly of contemporary or very recent verse.', mimetype='text/plain', start_char_idx=96650, end_char_idx=100531, text_template='{metadata_str}\\n\\n{content}', metadata_template='{key}: {value}', metadata_seperator='\\n'), score=0.5032512)]"
      ]
     },
     "execution_count": 20,
     "metadata": {},
     "output_type": "execute_result"
    }
   ],
   "source": [
    "retirever.retrieve(\"What lessons can be learned from the poems about success?\")"
   ]
  },
  {
   "cell_type": "markdown",
   "metadata": {},
   "source": [
    "But, chances are you don't just want the returned documents. You want the documents to be synthesized into a response. \n",
    "\n",
    "So, let's build on this pattern in the next lesson and see how we can get a response based on those retrieved documents."
   ]
  },
  {
   "cell_type": "code",
   "execution_count": 21,
   "metadata": {},
   "outputs": [],
   "source": [
    "# close the client so you're not locked out of the index\n",
    "client.close()"
   ]
  }
 ],
 "metadata": {
  "kernelspec": {
   "display_name": "lil_llama_index",
   "language": "python",
   "name": "python3"
  },
  "language_info": {
   "codemirror_mode": {
    "name": "ipython",
    "version": 3
   },
   "file_extension": ".py",
   "mimetype": "text/x-python",
   "name": "python",
   "nbconvert_exporter": "python",
   "pygments_lexer": "ipython3",
   "version": "3.10.0"
  }
 },
 "nbformat": 4,
 "nbformat_minor": 2
}
