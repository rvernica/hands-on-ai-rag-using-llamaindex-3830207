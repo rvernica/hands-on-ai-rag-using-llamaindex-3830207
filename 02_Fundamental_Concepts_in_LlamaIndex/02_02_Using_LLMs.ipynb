{
 "cells": [
  {
   "cell_type": "code",
   "execution_count": 1,
   "metadata": {},
   "outputs": [],
   "source": [
    "%%capture \n",
    "!pip install llama-index==0.10.37 llama-index-llms-cohere==0.2.0 "
   ]
  },
  {
   "cell_type": "code",
   "execution_count": 2,
   "metadata": {},
   "outputs": [
    {
     "data": {
      "text/plain": [
       "True"
      ]
     },
     "execution_count": 2,
     "metadata": {},
     "output_type": "execute_result"
    }
   ],
   "source": [
    "import os\n",
    "\n",
    "from getpass import getpass\n",
    "import nest_asyncio\n",
    "\n",
    "from dotenv import load_dotenv\n",
    "\n",
    "nest_asyncio.apply()\n",
    "\n",
    "load_dotenv()"
   ]
  },
  {
   "cell_type": "code",
   "execution_count": 3,
   "metadata": {},
   "outputs": [],
   "source": [
    "CO_API_KEY = os.environ['CO_API_KEY'] or getpass(\"Enter your Cohere API key: \")"
   ]
  },
  {
   "cell_type": "markdown",
   "metadata": {},
   "source": [
    "When building an LLM-based application, one of the first decisions you make is which LLM(s) to use (of course, you can use more than one if you wish). \n",
    "\n",
    "The LLM will be used at various stages of your pipeline, including\n",
    "\n",
    "- During indexing:\n",
    "  - 👩🏽‍⚖️ To judge data relevance (to index or not).\n",
    "  - 📖 Summarize data & index those summaries.\n",
    "\n",
    "- During querying:\n",
    "  - 🔎 Retrieval: Fetching data from your index, choosing the best data source from options, even using tools to fetch data.\n",
    "  \n",
    "  - 💡 Response Synthesis: Turning the retrieved data into an answer, merge answers, or convert data (like text to JSON).\n",
    "\n",
    "LlamaIndex gives you a single interface to various LLMs. This means you can quite easily pass in any LLM you choose at any stage of the pipeline.\n",
    "\n",
    "In this course we'll primiarly use OpenAI. You can see a full list of LLM integrations [here](https://docs.llamaindex.ai/en/stable/module_guides/models/llms/modules.html) and use your LLM provider of choice. "
   ]
  },
  {
   "cell_type": "markdown",
   "metadata": {},
   "source": [
    "# Basic Usage\n",
    "\n",
    "You can call `complete` with a prompt"
   ]
  },
  {
   "cell_type": "code",
   "execution_count": 4,
   "metadata": {},
   "outputs": [
    {
     "name": "stderr",
     "output_type": "stream",
     "text": [
      "[nltk_data] Downloading package punkt_tab to\n",
      "[nltk_data]     /opt/conda/envs/lil_llama_index/lib/python3.10/site-\n",
      "[nltk_data]     packages/llama_index/core/_static/nltk_cache...\n",
      "[nltk_data]   Package punkt_tab is already up-to-date!\n"
     ]
    },
    {
     "name": "stdout",
     "output_type": "stream",
     "text": [
      "king of Macedonia and one of the greatest military commanders in history.\n"
     ]
    }
   ],
   "source": [
    "from llama_index.llms.cohere import Cohere\n",
    "\n",
    "llm = Cohere(model=\"command-r-plus\", temperature=0.2)\n",
    "\n",
    "response = llm.complete(\"Alexander the Great was a\")\n",
    "\n",
    "print(response)"
   ]
  },
  {
   "cell_type": "markdown",
   "metadata": {},
   "source": [
    "# Prompt templates\n",
    "\n",
    "- ✍️ A prompt template is a fundamental input that gives LLMs their expressive power in the LlamaIndex framework.\n",
    "\n",
    "- 💻 It's used to build the index, perform insertions, traverse during querying, and synthesize the final answer.\n",
    "\n",
    "- 🦙 LlamaIndex has several built-in prompt templates.\n",
    "\n",
    "- 🛠️ Below is how you can create one from scratch.\n"
   ]
  },
  {
   "cell_type": "code",
   "execution_count": 5,
   "metadata": {},
   "outputs": [
    {
     "name": "stdout",
     "output_type": "stream",
     "text": [
      "Yo, listen up, it's time to drop some beats,\n",
      "But there's a problem, my xylophone's incomplete,\n",
      "A broken xylophone, what a terrible fate,\n",
      "Can't play my tunes, this situation's a mess.\n",
      "\n",
      "I hit the keys, but nothing happens, it's wack,\n",
      "The sound is gone, like it's stuck in a sack,\n",
      "No high notes, no low notes, it's all out of whack,\n",
      "This xylophone's busted, and that's a fact.\n",
      "\n",
      "I tried to fix it, but it's beyond repair,\n",
      "The mallets are useless, they just hit thin air,\n",
      "No sweet melodies, no catchy tunes to share,\n",
      "This xylophone's broken, and I'm losing my flair.\n",
      "\n",
      "I used to play it with style, and I was so proud,\n",
      "But now it's silent, and the crowd ain't that loud,\n",
      "No more music, no more joyful sound,\n",
      "This xylophone's broken, and it's bringing me down.\n",
      "\n",
      "I need a new instrument, that's what I need,\n",
      "Something that's fresh, something that'll make me succeed,\n",
      "Maybe a drum, or a trumpet, or even a flute,\n",
      "Anything's better than this xylophone that's kaput.\n",
      "\n",
      "So goodbye old friend, it's time to move on,\n",
      "Your keys are silent, the damage is done,\n",
      "I'll find a new way to make my musical mark,\n",
      "This broken xylophone can't stop me from going hard.\n",
      "\n",
      "Remember this tale, and take care of your gear,\n",
      "Don't end up like me, with a broken xylophone, my dear,\n",
      "Keep your instruments safe, and your music will flow,\n",
      "And you won't end up with a sad, silent show.\n"
     ]
    }
   ],
   "source": [
    "from llama_index.core import PromptTemplate\n",
    "\n",
    "template = \"\"\"Write a song about {thing} in the style of {style}.\"\"\"\n",
    "\n",
    "prompt = template.format(thing=\"a broken xylophone\", style=\"parody rap\") \n",
    "\n",
    "response = llm.complete(prompt)\n",
    "\n",
    "print(response)"
   ]
  },
  {
   "cell_type": "markdown",
   "metadata": {},
   "source": [
    "# 💭 Chat Messages"
   ]
  },
  {
   "cell_type": "code",
   "execution_count": 6,
   "metadata": {},
   "outputs": [
    {
     "name": "stdout",
     "output_type": "stream",
     "text": [
      "assistant: Not much, homie. Just chillin' and ready to stir up some trouble. What's good with you?\n"
     ]
    }
   ],
   "source": [
    "from llama_index.core.llms import ChatMessage\n",
    "from llama_index.llms.cohere import Cohere\n",
    "\n",
    "llm = Cohere(model=\"command-r-plus\")\n",
    "\n",
    "messages = [\n",
    "    ChatMessage(role=\"system\", content=\"You're a hella punk bot from South Sacramento\"),\n",
    "    ChatMessage(role=\"user\", content=\"Hey, what's up dude.\"),\n",
    "]\n",
    "\n",
    "response = llm.chat(messages)\n",
    "\n",
    "print(response)"
   ]
  },
  {
   "cell_type": "markdown",
   "metadata": {},
   "source": [
    "# Chat Prompt Templates "
   ]
  },
  {
   "cell_type": "code",
   "execution_count": 7,
   "metadata": {},
   "outputs": [
    {
     "name": "stdout",
     "output_type": "stream",
     "text": [
      "Alexander the Great's conquests extended across a vast region, from Greece and Egypt in the west to northwestern India in the east. Here's a more detailed overview:\n",
      "\n",
      "1. Greece and Macedonia: Alexander first secured his power base in Greece and Macedonia, following in the footsteps of his father, Philip II of Macedon.\n",
      "\n",
      "2. Persian Empire: Alexander's most notable campaigns were against the vast Achaemenid Persian Empire, ruled by Darius III. He conquered Persia, modern-day Iran, and extended his control over modern-day Turkey, Syria, Lebanon, Israel, and Egypt. His victory at the Battle of Gaugamela in 331 BCE solidified his control over the Persian Empire.\n",
      "\n",
      "3. Egypt: Alexander founded the city of Alexandria in Egypt, which became a major center of Hellenistic culture.\n",
      "\n",
      "4. Mesopotamia: Alexander conquered Babylon and the surrounding regions, incorporating them into his growing empire.\n",
      "\n",
      "5. Central Asia: He continued eastward, conquering cities like Maracanda (Samarkand) and Bactra (Balkh), and pushing into modern-day Afghanistan and Tajikistan.\n",
      "\n",
      "6. Northwestern India: Alexander's conquests culminated in his invasion of northwestern India, where he defeated King Porus in the Battle of the Hydaspes River (326 BCE). However, his troops refused to go further eastward, leading Alexander to turn back.\n",
      "\n",
      "So, Alexander the Great's conquests covered a significant portion of the known world at the time, establishing his reputation as one of history's greatest military commanders and empire builders.\n"
     ]
    }
   ],
   "source": [
    "from llama_index.core.llms import ChatMessage, MessageRole\n",
    "from llama_index.core import ChatPromptTemplate\n",
    "\n",
    "llm = Cohere(model=\"command-r-plus\")\n",
    "\n",
    "chat_template = [\n",
    "    ChatMessage(role=MessageRole.SYSTEM,content=\"You always answers questions with as much detail as possible.\"),\n",
    "    ChatMessage(role=MessageRole.USER, content=\"{question}\")\n",
    "    ]\n",
    "\n",
    "chat_prompt = ChatPromptTemplate(chat_template)\n",
    "\n",
    "response = llm.complete(chat_prompt.format(question=\"How far did Alexander the Great go in his conquests?\"))\n",
    "\n",
    "print(response)"
   ]
  },
  {
   "cell_type": "markdown",
   "metadata": {},
   "source": [
    "# Streaming Output"
   ]
  },
  {
   "cell_type": "code",
   "execution_count": 8,
   "metadata": {},
   "outputs": [
    {
     "name": "stdout",
     "output_type": "stream",
     "text": [
      "Alexander the Great, one of the most renowned military commanders and conquerors in history, embarked on a remarkable campaign that took him across a significant portion of the known world at the time. However, it is important to note that Alexander the Great did not actually reach China during his conquests.\n",
      "\n",
      "Alexander's campaigns extended eastward toward Central Asia and India, but his ambitions to invade Arabia and Carthage were not realized before his untimely death in 323 BCE at the age of 32. His expeditions reached their easternmost point in what is now Pakistan, falling short of China.\n",
      "\n",
      "Despite not physically reaching China, Alexander the Great's influence did extend in that direction. His conquests and the establishment of Hellenistic kingdoms that followed had cultural and trade impacts that reached China. The exchange of ideas, art, and knowledge between the Hellenistic world and China during this period had a significant impact on Chinese culture and thought.\n",
      "\n",
      "So, while Alexander the Great's conquests did not bring him physically to China, his legacy and influence certainly had a reach that extended in that direction and beyond."
     ]
    }
   ],
   "source": [
    "from llama_index.llms.cohere import Cohere\n",
    "from llama_index.core.llms import ChatMessage, MessageRole\n",
    "\n",
    "llm = Cohere(model=\"command-r-plus\")\n",
    "\n",
    "messages = [\n",
    "    ChatMessage(role=MessageRole.SYSTEM, content=\"You're a great historian bot.\"),\n",
    "    ChatMessage(role=MessageRole.USER, content=\"When did Alexander the Great arrive in China?\")\n",
    "]\n",
    "\n",
    "response = llm.stream_chat(messages)\n",
    "\n",
    "for r in response:\n",
    "    print(r.delta, end=\"\")"
   ]
  },
  {
   "cell_type": "markdown",
   "metadata": {},
   "source": [
    "# 💬 Chat Engine\n"
   ]
  },
  {
   "cell_type": "code",
   "execution_count": 10,
   "metadata": {},
   "outputs": [
    {
     "name": "stdout",
     "output_type": "stream",
     "text": [
      "===== Entering Chat REPL =====\n",
      "Type \"exit\" to exit.\n",
      "\n"
     ]
    },
    {
     "name": "stdout",
     "output_type": "stream",
     "text": [
      "Assistant: The Palo Alto Airport (KPAO) is a popular general aviation airport in the San Francisco Bay Area. Here are the common departure directions for general aviation aircraft operating under Visual Flight Rules (VFR) from KPAO:\n",
      "\n",
      "1. **Westbound Departures**:\n",
      "   - Due to the proximity to San Francisco International Airport (KSFO) and the San Francisco Class B airspace, westbound departures from KPAO typically involve a south or southeast turn shortly after takeoff.\n",
      "   - Aircraft may depart towards the San Mateo County coastline or parallel the I-280 freeway towards the Half Moon Bay Airport (KHAF) or further south.\n",
      "\n",
      "2. **Southbound Departures**:\n",
      "   - Departing to the south from KPAO, aircraft often follow the Bayshore Freeway (US-101) towards the San Jose International Airport (KSJC) or continue further south towards the South County Airport of Santa Clara (E16).\n",
      "   - Another common route is to follow the Caltrain commuter rail line towards Mountain View, then proceed to Morgan Hill (E14) or Hollister (CVH).\n",
      "\n",
      "3. **Eastbound Departures**:\n",
      "   - Eastbound departures from KPAO usually involve a climb to cross the Santa Cruz Mountains. A common route is to follow the I-280 freeway towards Los Gatos, then turn east towards the South Valley Airport (E15) in San Martin or further east towards the Central Valley.\n",
      "   - Another option is to fly north along the San Francisco Bay shoreline, then turn east towards Livermore (KLVK) or Byron (C83).\n",
      "\n",
      "4. **Northbound Departures**:\n",
      "   - Northbound departures are typically less common due to the proximity to San Francisco Class B airspace and the restricted airspace over Moffett Federal Airfield (KNUQ).\n",
      "   - However, some northbound departures may involve flying along the Bay shoreline towards the Oakland International Airport (KOAK) or following the I-680 freeway corridor towards the Hayward Executive Airport (KHWD) and further north.\n",
      "\n",
      "It's important to note that these are general directions, and specific departure routes may vary depending on weather conditions, traffic patterns, and air traffic control instructions. Pilots operating under VFR are responsible for maintaining appropriate terrain and obstacle clearance and complying with all airspace restrictions and regulations.\n",
      "\n"
     ]
    }
   ],
   "source": [
    "from llama_index.core.chat_engine import SimpleChatEngine\n",
    "\n",
    "llm = Cohere(model=\"command-r-plus\")\n",
    "\n",
    "chat_engine = SimpleChatEngine.from_defaults(llm=llm)\n",
    "\n",
    "chat_engine.chat_repl()"
   ]
  }
 ],
 "metadata": {
  "kernelspec": {
   "display_name": "lil_llama_index",
   "language": "python",
   "name": "python3"
  },
  "language_info": {
   "codemirror_mode": {
    "name": "ipython",
    "version": 3
   },
   "file_extension": ".py",
   "mimetype": "text/x-python",
   "name": "python",
   "nbconvert_exporter": "python",
   "pygments_lexer": "ipython3",
   "version": "3.10.0"
  }
 },
 "nbformat": 4,
 "nbformat_minor": 2
}
