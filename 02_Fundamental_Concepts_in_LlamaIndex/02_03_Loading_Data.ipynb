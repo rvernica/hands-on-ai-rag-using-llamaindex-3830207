{
 "cells": [
  {
   "cell_type": "code",
   "execution_count": 1,
   "metadata": {},
   "outputs": [],
   "source": [
    "%%capture\n",
    "# !pip install llama-index==0.10.37 html2text"
   ]
  },
  {
   "cell_type": "code",
   "execution_count": 2,
   "metadata": {},
   "outputs": [
    {
     "data": {
      "text/plain": [
       "True"
      ]
     },
     "execution_count": 2,
     "metadata": {},
     "output_type": "execute_result"
    }
   ],
   "source": [
    "import os\n",
    "\n",
    "from getpass import getpass\n",
    "import nest_asyncio\n",
    "\n",
    "from dotenv import load_dotenv\n",
    "\n",
    "nest_asyncio.apply()\n",
    "\n",
    "load_dotenv()"
   ]
  },
  {
   "cell_type": "markdown",
   "metadata": {},
   "source": [
    "# 📂 **Loading Data**\n",
    "\n",
    "Preparing your data for an LLM involves an ingestion pipeline similar to ML data cleaning or traditional ETL processes.\n",
    "\n",
    "### **Ingestion Pipeline Stages**\n",
    "  - 📥 Load the data\n",
    "  - 🔧 Transform the data\n",
    "  - 🗃️ Index and store the data\n",
    "\n",
    "\n",
    "Let's start by downloading some example files"
   ]
  },
  {
   "cell_type": "code",
   "execution_count": 3,
   "metadata": {},
   "outputs": [
    {
     "name": "stdout",
     "output_type": "stream",
     "text": [
      "Downloaded pg1.txt to data/pg1.txt\n",
      "Downloaded pg2.txt to data/pg2.txt\n",
      "Downloaded pg3.txt to data/pg3.txt\n",
      "Downloaded pg4.txt to data/pg4.txt\n",
      "Downloaded pg5.txt to data/pg5.txt\n",
      "Downloaded pg6.txt to data/pg6.txt\n",
      "Downloaded pg7.txt to data/pg7.txt\n",
      "Downloaded pg8.txt to data/pg8.txt\n",
      "Downloaded pg9.txt to data/pg9.txt\n",
      "Downloaded pg10.txt to data/pg10.txt\n"
     ]
    }
   ],
   "source": [
    "import requests\n",
    "from pathlib import Path\n",
    "\n",
    "# Base URL for Project Gutenberg texts\n",
    "base_url = \"https://www.gutenberg.org/cache/epub/{book_id}/pg{book_id}.txt\"\n",
    "\n",
    "# Directory to save the downloaded files\n",
    "directory = Path(\"./data\")\n",
    "\n",
    "# Create the directory if it doesn't exist\n",
    "directory.mkdir(parents=True, exist_ok=True)\n",
    "\n",
    "# Generate a list of book IDs to download\n",
    "book_ids = range(1, 11)  # This will create a range from 1 to 10\n",
    "\n",
    "# Generate URLs for each book ID\n",
    "urls = [base_url.format(book_id=book_id) for book_id in book_ids]\n",
    "\n",
    "# Download each file and save it in the specified directory\n",
    "for url in urls:\n",
    "    response = requests.get(url)\n",
    "    if response.status_code == 200:\n",
    "        # Extract the filename from the URL using the book ID and create a file name\n",
    "        book_id = url.split('/')[-2]  # Extracts the book ID from the URL\n",
    "        filename = f\"pg{book_id}.txt\"\n",
    "        file_path = directory / filename\n",
    "        # Save the file to the specified directory\n",
    "        file_path.write_text(response.text)\n",
    "        print(f\"Downloaded {filename} to {file_path}\")\n",
    "    else:\n",
    "        print(f\"Failed to download {url}. HTTP status code: {response.status_code}\")"
   ]
  },
  {
   "cell_type": "markdown",
   "metadata": {},
   "source": [
    "# 📥 Load the data\n",
    "\n",
    "To use data with an LLM, first load it using data connectors, known as `Readers` in LlamaIndex, which format data into `Document` objects containing data and metadata.\n",
    "\n",
    "📚 **SimpleDirectoryReader**:\n",
    "  - The most straightforward loader is `SimpleDirectoryReader``.\n",
    "  - Built into LlamaIndex, it reads various formats (Markdown, PDFs, Word documents, PowerPoint decks, images, audio, video) from every file in a directory, creating documents."
   ]
  },
  {
   "cell_type": "code",
   "execution_count": 4,
   "metadata": {},
   "outputs": [
    {
     "name": "stderr",
     "output_type": "stream",
     "text": [
      "[nltk_data] Downloading package punkt_tab to\n",
      "[nltk_data]     /opt/conda/envs/lil_llama_index/lib/python3.10/site-\n",
      "[nltk_data]     packages/llama_index/core/_static/nltk_cache...\n",
      "[nltk_data]   Package punkt_tab is already up-to-date!\n"
     ]
    }
   ],
   "source": [
    "from llama_index.core import SimpleDirectoryReader\n",
    "\n",
    "documents = SimpleDirectoryReader(\"./data\").load_data()"
   ]
  },
  {
   "cell_type": "code",
   "execution_count": 5,
   "metadata": {},
   "outputs": [
    {
     "data": {
      "text/plain": [
       "10"
      ]
     },
     "execution_count": 5,
     "metadata": {},
     "output_type": "execute_result"
    }
   ],
   "source": [
    "len(documents)"
   ]
  },
  {
   "cell_type": "code",
   "execution_count": 6,
   "metadata": {},
   "outputs": [
    {
     "data": {
      "text/plain": [
       "llama_index.core.schema.Document"
      ]
     },
     "execution_count": 6,
     "metadata": {},
     "output_type": "execute_result"
    }
   ],
   "source": [
    "type(documents[0])"
   ]
  },
  {
   "cell_type": "code",
   "execution_count": 7,
   "metadata": {},
   "outputs": [
    {
     "data": {
      "text/plain": [
       "{'id_': '96a127e4-9ef4-440d-b0c9-b85bb9d16b5e',\n",
       " 'embedding': None,\n",
       " 'metadata': {'file_path': '/workspaces/hands-on-ai-rag-using-llamaindex-3830207/02_Fundamental_Concepts_in_LlamaIndex/data/pg3.txt',\n",
       "  'file_name': 'pg3.txt',\n",
       "  'file_type': 'text/plain',\n",
       "  'file_size': 27514,\n",
       "  'creation_date': '2025-08-05',\n",
       "  'last_modified_date': '2025-08-05'},\n",
       " 'excluded_embed_metadata_keys': ['file_name',\n",
       "  'file_type',\n",
       "  'file_size',\n",
       "  'creation_date',\n",
       "  'last_modified_date',\n",
       "  'last_accessed_date'],\n",
       " 'excluded_llm_metadata_keys': ['file_name',\n",
       "  'file_type',\n",
       "  'file_size',\n",
       "  'creation_date',\n",
       "  'last_modified_date',\n",
       "  'last_accessed_date'],\n",
       " 'relationships': {},\n",
       " 'text': \"\\ufeffThe Project Gutenberg eBook of John F. Kennedy's Inaugural Address\\r\\n    \\r\\nThis ebook is for the use of anyone anywhere in the United States and\\r\\nmost other parts of the world at no cost and with almost no restrictions\\r\\nwhatsoever. You may copy it, give it away or re-use it under the terms\\r\\nof the Project Gutenberg License included with this ebook or online\\r\\nat www.gutenberg.org. If you are not located in the United States,\\r\\nyou will have to check the laws of the country where you are located\\r\\nbefore using this eBook.\\r\\n\\r\\nTitle: John F. Kennedy's Inaugural Address\\r\\n\\r\\nAuthor: John F. Kennedy\\r\\n\\r\\nRelease date: November 1, 1973 [eBook #3]\\r\\n                Most recently updated: July 16, 2025\\r\\n\\r\\nLanguage: English\\r\\n\\r\\n\\r\\n\\r\\n*** START OF THE PROJECT GUTENBERG EBOOK JOHN F. KENNEDY'S INAUGURAL ADDRESS ***\\r\\n\\r\\n\\r\\n\\r\\n\\r\\nJohn F. Kennedy’s Inaugural Address, January 20, 1961, 12:11 EST\\r\\n\\r\\n\\r\\nWe observe today not a victory of party but a celebration of\\r\\nfreedom—symbolizing an end as well as a beginning—signifying renewal as\\r\\nwell as change for I have sworn before you and Almighty God the same\\r\\nsolemn oath our forbears prescribed nearly a century and three-quarters\\r\\nago.\\r\\n\\r\\nThe world is very different now, for man holds in his mortal hands the\\r\\npower to abolish all forms of human poverty and all forms of human\\r\\nlife. And yet the same revolutionary beliefs for which our forbears\\r\\nfought are still at issue around the globe—the belief that the rights\\r\\nof man come not from the generosity of the state but from the hand of\\r\\nGod.\\r\\n\\r\\nWe dare not forget today that we are the heirs of that first\\r\\nrevolution. Let the word go forth from this time and place, to friend\\r\\nand foe alike, that the torch has been passed to a new generation of\\r\\nAmericans—born in this century, tempered by war, disciplined by a hard\\r\\nand bitter peace, proud of our ancient heritage—and unwilling to\\r\\nwitness or permit the slow undoing of those human rights to which this\\r\\nnation has always been committed, and to which we are committed today\\r\\nat home and around the world.\\r\\n\\r\\nLet every nation know, whether it wishes us well or ill, that we shall\\r\\npay any price, bear any burden, meet any hardship, support any friend,\\r\\noppose any foe, to assure the survival and the success of liberty.\\r\\n\\r\\nThis much we pledge—and more.\\r\\n\\r\\nTo those old allies whose cultural and spiritual origins we share: we\\r\\npledge the loyalty of faithful friends. United, there is little we\\r\\ncannot do in a host of co-operative ventures. Divided, there is little\\r\\nwe can do—for we dare not meet a powerful challenge, at odds, and split\\r\\nasunder.\\r\\n\\r\\nTo those new states whom we welcome to the ranks of the free: we pledge\\r\\nour word that one form of colonial control shall not have passed away\\r\\nmerely to be replaced by a far more iron tyranny. We shall not always\\r\\nexpect to find them supporting our view. But we shall always hope to\\r\\nfind them strongly supporting their own freedom—and to remember that,\\r\\nin the past, those who foolishly sought power by riding the back of the\\r\\ntiger ended up inside.\\r\\n\\r\\nTo those people in the huts and villages of half the globe struggling\\r\\nto break the bonds of mass misery: we pledge our best efforts to help\\r\\nthem help themselves, for whatever period is required—not because the\\r\\nCommunists may be doing it, not because we seek their votes, but\\r\\nbecause it is right. If a free society cannot help the many who are\\r\\npoor, it cannot save the few who are rich.\\r\\n\\r\\nTo our sister republics south of our border: we offer a special\\r\\npledge—to convert our good words into good deeds—n a new alliance for\\r\\nprogress—to assist free men and free governments in casting off the\\r\\nchains of poverty. But this peaceful revolution of hope cannot become\\r\\nthe prey of hostile powers. Let all our neighbors know that we shall\\r\\njoin with them to oppose aggression or subversion anywhere in the\\r\\nAmericas And let every other power know that this hemisphere intends to\\r\\nremain the master of its own house.\\r\\n\\r\\nTo that world assembly of sovereign states: the United Nations, our\\r\\nlast best hope in an age where the instruments of war have far outpaced\\r\\nthe instruments of peace, we renew our pledge of support—to prevent it\\r\\nfrom becoming merely a forum for invective—to strengthen its shield of\\r\\nthe new and the weak—and to enlarge the area in which its writ may run.\\r\\n\\r\\nFinally, to those nations who would make themselves our adversaries, we\\r\\noffer not a pledge but a request: that both sides begin anew the quest\\r\\nfor peace; before the dark powers of destruction unleashed by science\\r\\nengulf all humanity in planned or accidental self-destruction.\\r\\n\\r\\nWe dare not tempt them with weakness. For only when our arms are\\r\\nsufficient beyond doubt can we be certain beyond doubt that they will\\r\\nnever be employed.\\r\\n\\r\\nBut neither can two great and powerful groups of nations take comfort\\r\\nfrom our present course—both sides overburdened by the cost of modern\\r\\nweapons, both rightly alarmed by the steady spread of the deadly atom,\\r\\nyet both racing to alter that uncertain balance of terror that stays\\r\\nthe hand of Mankind’s final war.\\r\\n\\r\\nSo let us begin anew—remembering on both sides that civility is not a\\r\\nsign of weakness, and sincerity is always subject to proof. Let us\\r\\nnever negotiate out of fear, but let us never fear to negotiate.\\r\\n\\r\\nLet both sides explore what problems unite us instead of belaboring\\r\\nthose problems which divide us.\\r\\n\\r\\nLet both sides, for the first time, formulate serious and precise\\r\\nproposals for the inspection and control of arms—and bring the absolute\\r\\npower to destroy other nations under the absolute control of all\\r\\nnations.\\r\\n\\r\\nLet both sides seek to invoke the wonders of science instead of its\\r\\nterrors. Together let us explore the stars, conquer the deserts,\\r\\neradicate disease, tap the ocean depths, and encourage the arts and\\r\\ncommerce.\\r\\n\\r\\nLet both sides unite to heed in all corners of the earth the command of\\r\\nIsaiah—to “undo the heavy burdens. . . let the oppressed go free.”\\r\\n\\r\\nAnd if a beachhead of co-operation may push back the jungle of\\r\\nsuspicion, let both sides join in creating not a new balance of power,\\r\\nbut a new world of law, where the strong are just and the weak secure\\r\\nand the peace preserved.\\r\\n\\r\\nAll this will not be finished in the first one hundred days. Nor will\\r\\nit be finished in the first one thousand days. . . nor in the life of\\r\\nthis administration, nor even perhaps in our lifetime on this planet.\\r\\nBut let us begin.\\r\\n\\r\\nIn your hands, my fellow citizens, more than mine, will rest the final\\r\\nsuccess or failure of our course. Since this country was founded, each\\r\\ngeneration of Americans has been summoned to give testimony to its\\r\\nnational loyalty. The graves of young Americans who answered the call\\r\\nto service surround the globe.\\r\\n\\r\\nNow the trumpet summons us again—not as a call to bear arms, though\\r\\narms we need—not as a call to battle, though embattled we are—but a\\r\\ncall to bear the burden of a long twilight struggle, year in and year\\r\\nout, “rejoicing in hope, patient in tribulation”—a struggle against the\\r\\ncommon enemies of man: tyranny, poverty, disease and war itself.\\r\\n\\r\\nCan we forge against these enemies a grand and global alliance, North\\r\\nand South, East and West, that can assure a more fruitful life for all\\r\\nmankind? Will you join in that historic effort?\\r\\n\\r\\nIn the long history of the world, only a few generations have been\\r\\ngranted the role of defending freedom in its hour of maximum danger; I\\r\\ndo not shrink from this responsibility—I welcome it. I do not believe\\r\\nthat any of us would exchange places with any other people or any other\\r\\ngeneration. The energy, the faith, the devotion which we bring to this\\r\\nendeavor will light our country and all who serve it—and the glow from\\r\\nthat fire can truly light the world.\\r\\n\\r\\nAnd so, my fellow Americans: ask not what your country can do for\\r\\nyou—ask what you can do for your country.\\r\\n\\r\\nMy fellow citizens of the world: ask not what America will do for you,\\r\\nbut what together we can do for the Freedom of Man.\\r\\n\\r\\nFinally, whether you are citizens of America or citizens of the world,\\r\\nask of us here the same high standards of strength and sacrifice which\\r\\nwe ask of you. With a good conscience our only sure reward, with\\r\\nhistory the final judge of our deeds; let us go forth to lead the land\\r\\nwe love, asking His blessing and His help, but knowing that here on\\r\\nearth God’s work must truly be our own.\\r\\n\\r\\n\\r\\n\\r\\n*** END OF THE PROJECT GUTENBERG EBOOK JOHN F. KENNEDY'S INAUGURAL ADDRESS ***\\r\\n\\r\\n\\r\\n    \\r\\n\\r\\nUpdated editions will replace the previous one—the old editions will\\r\\nbe renamed.\\r\\n\\r\\nCreating the works from print editions not protected by U.S. copyright\\r\\nlaw means that no one owns a United States copyright in these works,\\r\\nso the Foundation (and you!) can copy and distribute it in the United\\r\\nStates without permission and without paying copyright\\r\\nroyalties. Special rules, set forth in the General Terms of Use part\\r\\nof this license, apply to copying and distributing Project\\r\\nGutenberg™ electronic works to protect the PROJECT GUTENBERG™\\r\\nconcept and trademark. Project Gutenberg is a registered trademark,\\r\\nand may not be used if you charge for an eBook, except by following\\r\\nthe terms of the trademark license, including paying royalties for use\\r\\nof the Project Gutenberg trademark. If you do not charge anything for\\r\\ncopies of this eBook, complying with the trademark license is very\\r\\neasy. You may use this eBook for nearly any purpose such as creation\\r\\nof derivative works, reports, performances and research. Project\\r\\nGutenberg eBooks may be modified and printed and given away—you may\\r\\ndo practically ANYTHING in the United States with eBooks not protected\\r\\nby U.S. copyright law. Redistribution is subject to the trademark\\r\\nlicense, especially commercial redistribution.\\r\\n\\r\\n\\r\\nSTART: FULL LICENSE\\r\\n\\r\\nTHE FULL PROJECT GUTENBERG LICENSE\\r\\n\\r\\nPLEASE READ THIS BEFORE YOU DISTRIBUTE OR USE THIS WORK\\r\\n\\r\\nTo protect the Project Gutenberg™ mission of promoting the free\\r\\ndistribution of electronic works, by using or distributing this work\\r\\n(or any other work associated in any way with the phrase “Project\\r\\nGutenberg”), you agree to comply with all the terms of the Full\\r\\nProject Gutenberg™ License available with this file or online at\\r\\nwww.gutenberg.org/license.\\r\\n\\r\\nSection 1. General Terms of Use and Redistributing Project Gutenberg™\\r\\nelectronic works\\r\\n\\r\\n1.A. By reading or using any part of this Project Gutenberg™\\r\\nelectronic work, you indicate that you have read, understand, agree to\\r\\nand accept all the terms of this license and intellectual property\\r\\n(trademark/copyright) agreement. If you do not agree to abide by all\\r\\nthe terms of this agreement, you must cease using and return or\\r\\ndestroy all copies of Project Gutenberg™ electronic works in your\\r\\npossession. If you paid a fee for obtaining a copy of or access to a\\r\\nProject Gutenberg™ electronic work and you do not agree to be bound\\r\\nby the terms of this agreement, you may obtain a refund from the person\\r\\nor entity to whom you paid the fee as set forth in paragraph 1.E.8.\\r\\n\\r\\n1.B. “Project Gutenberg” is a registered trademark. It may only be\\r\\nused on or associated in any way with an electronic work by people who\\r\\nagree to be bound by the terms of this agreement. There are a few\\r\\nthings that you can do with most Project Gutenberg™ electronic works\\r\\neven without complying with the full terms of this agreement. See\\r\\nparagraph 1.C below. There are a lot of things you can do with Project\\r\\nGutenberg™ electronic works if you follow the terms of this\\r\\nagreement and help preserve free future access to Project Gutenberg™\\r\\nelectronic works. See paragraph 1.E below.\\r\\n\\r\\n1.C. The Project Gutenberg Literary Archive Foundation (“the\\r\\nFoundation” or PGLAF), owns a compilation copyright in the collection\\r\\nof Project Gutenberg™ electronic works. Nearly all the individual\\r\\nworks in the collection are in the public domain in the United\\r\\nStates. If an individual work is unprotected by copyright law in the\\r\\nUnited States and you are located in the United States, we do not\\r\\nclaim a right to prevent you from copying, distributing, performing,\\r\\ndisplaying or creating derivative works based on the work as long as\\r\\nall references to Project Gutenberg are removed. Of course, we hope\\r\\nthat you will support the Project Gutenberg™ mission of promoting\\r\\nfree access to electronic works by freely sharing Project Gutenberg™\\r\\nworks in compliance with the terms of this agreement for keeping the\\r\\nProject Gutenberg™ name associated with the work. You can easily\\r\\ncomply with the terms of this agreement by keeping this work in the\\r\\nsame format with its attached full Project Gutenberg™ License when\\r\\nyou share it without charge with others.\\r\\n\\r\\n1.D. The copyright laws of the place where you are located also govern\\r\\nwhat you can do with this work. Copyright laws in most countries are\\r\\nin a constant state of change. If you are outside the United States,\\r\\ncheck the laws of your country in addition to the terms of this\\r\\nagreement before downloading, copying, displaying, performing,\\r\\ndistributing or creating derivative works based on this work or any\\r\\nother Project Gutenberg™ work. The Foundation makes no\\r\\nrepresentations concerning the copyright status of any work in any\\r\\ncountry other than the United States.\\r\\n\\r\\n1.E. Unless you have removed all references to Project Gutenberg:\\r\\n\\r\\n1.E.1. The following sentence, with active links to, or other\\r\\nimmediate access to, the full Project Gutenberg™ License must appear\\r\\nprominently whenever any copy of a Project Gutenberg™ work (any work\\r\\non which the phrase “Project Gutenberg” appears, or with which the\\r\\nphrase “Project Gutenberg” is associated) is accessed, displayed,\\r\\nperformed, viewed, copied or distributed:\\r\\n\\r\\n    This eBook is for the use of anyone anywhere in the United States and most\\r\\n    other parts of the world at no cost and with almost no restrictions\\r\\n    whatsoever. You may copy it, give it away or re-use it under the terms\\r\\n    of the Project Gutenberg License included with this eBook or online\\r\\n    at www.gutenberg.org. If you\\r\\n    are not located in the United States, you will have to check the laws\\r\\n    of the country where you are located before using this eBook.\\r\\n  \\r\\n1.E.2. If an individual Project Gutenberg™ electronic work is\\r\\nderived from texts not protected by U.S. copyright law (does not\\r\\ncontain a notice indicating that it is posted with permission of the\\r\\ncopyright holder), the work can be copied and distributed to anyone in\\r\\nthe United States without paying any fees or charges. If you are\\r\\nredistributing or providing access to a work with the phrase “Project\\r\\nGutenberg” associated with or appearing on the work, you must comply\\r\\neither with the requirements of paragraphs 1.E.1 through 1.E.7 or\\r\\nobtain permission for the use of the work and the Project Gutenberg™\\r\\ntrademark as set forth in paragraphs 1.E.8 or 1.E.9.\\r\\n\\r\\n1.E.3. If an individual Project Gutenberg™ electronic work is posted\\r\\nwith the permission of the copyright holder, your use and distribution\\r\\nmust comply with both paragraphs 1.E.1 through 1.E.7 and any\\r\\nadditional terms imposed by the copyright holder. Additional terms\\r\\nwill be linked to the Project Gutenberg™ License for all works\\r\\nposted with the permission of the copyright holder found at the\\r\\nbeginning of this work.\\r\\n\\r\\n1.E.4. Do not unlink or detach or remove the full Project Gutenberg™\\r\\nLicense terms from this work, or any files containing a part of this\\r\\nwork or any other work associated with Project Gutenberg™.\\r\\n\\r\\n1.E.5. Do not copy, display, perform, distribute or redistribute this\\r\\nelectronic work, or any part of this electronic work, without\\r\\nprominently displaying the sentence set forth in paragraph 1.E.1 with\\r\\nactive links or immediate access to the full terms of the Project\\r\\nGutenberg™ License.\\r\\n\\r\\n1.E.6. You may convert to and distribute this work in any binary,\\r\\ncompressed, marked up, nonproprietary or proprietary form, including\\r\\nany word processing or hypertext form. However, if you provide access\\r\\nto or distribute copies of a Project Gutenberg™ work in a format\\r\\nother than “Plain Vanilla ASCII” or other format used in the official\\r\\nversion posted on the official Project Gutenberg™ website\\r\\n(www.gutenberg.org), you must, at no additional cost, fee or expense\\r\\nto the user, provide a copy, a means of exporting a copy, or a means\\r\\nof obtaining a copy upon request, of the work in its original “Plain\\r\\nVanilla ASCII” or other form. Any alternate format must include the\\r\\nfull Project Gutenberg™ License as specified in paragraph 1.E.1.\\r\\n\\r\\n1.E.7. Do not charge a fee for access to, viewing, displaying,\\r\\nperforming, copying or distributing any Project Gutenberg™ works\\r\\nunless you comply with paragraph 1.E.8 or 1.E.9.\\r\\n\\r\\n1.E.8. You may charge a reasonable fee for copies of or providing\\r\\naccess to or distributing Project Gutenberg™ electronic works\\r\\nprovided that:\\r\\n\\r\\n    • You pay a royalty fee of 20% of the gross profits you derive from\\r\\n        the use of Project Gutenberg™ works calculated using the method\\r\\n        you already use to calculate your applicable taxes. The fee is owed\\r\\n        to the owner of the Project Gutenberg™ trademark, but he has\\r\\n        agreed to donate royalties under this paragraph to the Project\\r\\n        Gutenberg Literary Archive Foundation. Royalty payments must be paid\\r\\n        within 60 days following each date on which you prepare (or are\\r\\n        legally required to prepare) your periodic tax returns. Royalty\\r\\n        payments should be clearly marked as such and sent to the Project\\r\\n        Gutenberg Literary Archive Foundation at the address specified in\\r\\n        Section 4, “Information about donations to the Project Gutenberg\\r\\n        Literary Archive Foundation.”\\r\\n    \\r\\n    • You provide a full refund of any money paid by a user who notifies\\r\\n        you in writing (or by e-mail) within 30 days of receipt that s/he\\r\\n        does not agree to the terms of the full Project Gutenberg™\\r\\n        License. You must require such a user to return or destroy all\\r\\n        copies of the works possessed in a physical medium and discontinue\\r\\n        all use of and all access to other copies of Project Gutenberg™\\r\\n        works.\\r\\n    \\r\\n    • You provide, in accordance with paragraph 1.F.3, a full refund of\\r\\n        any money paid for a work or a replacement copy, if a defect in the\\r\\n        electronic work is discovered and reported to you within 90 days of\\r\\n        receipt of the work.\\r\\n    \\r\\n    • You comply with all other terms of this agreement for free\\r\\n        distribution of Project Gutenberg™ works.\\r\\n    \\r\\n\\r\\n1.E.9. If you wish to charge a fee or distribute a Project\\r\\nGutenberg™ electronic work or group of works on different terms than\\r\\nare set forth in this agreement, you must obtain permission in writing\\r\\nfrom the Project Gutenberg Literary Archive Foundation, the manager of\\r\\nthe Project Gutenberg™ trademark. Contact the Foundation as set\\r\\nforth in Section 3 below.\\r\\n\\r\\n1.F.\\r\\n\\r\\n1.F.1. Project Gutenberg volunteers and employees expend considerable\\r\\neffort to identify, do copyright research on, transcribe and proofread\\r\\nworks not protected by U.S. copyright law in creating the Project\\r\\nGutenberg™ collection. Despite these efforts, Project Gutenberg™\\r\\nelectronic works, and the medium on which they may be stored, may\\r\\ncontain “Defects,” such as, but not limited to, incomplete, inaccurate\\r\\nor corrupt data, transcription errors, a copyright or other\\r\\nintellectual property infringement, a defective or damaged disk or\\r\\nother medium, a computer virus, or computer codes that damage or\\r\\ncannot be read by your equipment.\\r\\n\\r\\n1.F.2. LIMITED WARRANTY, DISCLAIMER OF DAMAGES - Except for the “Right\\r\\nof Replacement or Refund” described in paragraph 1.F.3, the Project\\r\\nGutenberg Literary Archive Foundation, the owner of the Project\\r\\nGutenberg™ trademark, and any other party distributing a Project\\r\\nGutenberg™ electronic work under this agreement, disclaim all\\r\\nliability to you for damages, costs and expenses, including legal\\r\\nfees. YOU AGREE THAT YOU HAVE NO REMEDIES FOR NEGLIGENCE, STRICT\\r\\nLIABILITY, BREACH OF WARRANTY OR BREACH OF CONTRACT EXCEPT THOSE\\r\\nPROVIDED IN PARAGRAPH 1.F.3. YOU AGREE THAT THE FOUNDATION, THE\\r\\nTRADEMARK OWNER, AND ANY DISTRIBUTOR UNDER THIS AGREEMENT WILL NOT BE\\r\\nLIABLE TO YOU FOR ACTUAL, DIRECT, INDIRECT, CONSEQUENTIAL, PUNITIVE OR\\r\\nINCIDENTAL DAMAGES EVEN IF YOU GIVE NOTICE OF THE POSSIBILITY OF SUCH\\r\\nDAMAGE.\\r\\n\\r\\n1.F.3. LIMITED RIGHT OF REPLACEMENT OR REFUND - If you discover a\\r\\ndefect in this electronic work within 90 days of receiving it, you can\\r\\nreceive a refund of the money (if any) you paid for it by sending a\\r\\nwritten explanation to the person you received the work from. If you\\r\\nreceived the work on a physical medium, you must return the medium\\r\\nwith your written explanation. The person or entity that provided you\\r\\nwith the defective work may elect to provide a replacement copy in\\r\\nlieu of a refund. If you received the work electronically, the person\\r\\nor entity providing it to you may choose to give you a second\\r\\nopportunity to receive the work electronically in lieu of a refund. If\\r\\nthe second copy is also defective, you may demand a refund in writing\\r\\nwithout further opportunities to fix the problem.\\r\\n\\r\\n1.F.4. Except for the limited right of replacement or refund set forth\\r\\nin paragraph 1.F.3, this work is provided to you ‘AS-IS’, WITH NO\\r\\nOTHER WARRANTIES OF ANY KIND, EXPRESS OR IMPLIED, INCLUDING BUT NOT\\r\\nLIMITED TO WARRANTIES OF MERCHANTABILITY OR FITNESS FOR ANY PURPOSE.\\r\\n\\r\\n1.F.5. Some states do not allow disclaimers of certain implied\\r\\nwarranties or the exclusion or limitation of certain types of\\r\\ndamages. If any disclaimer or limitation set forth in this agreement\\r\\nviolates the law of the state applicable to this agreement, the\\r\\nagreement shall be interpreted to make the maximum disclaimer or\\r\\nlimitation permitted by the applicable state law. The invalidity or\\r\\nunenforceability of any provision of this agreement shall not void the\\r\\nremaining provisions.\\r\\n\\r\\n1.F.6. INDEMNITY - You agree to indemnify and hold the Foundation, the\\r\\ntrademark owner, any agent or employee of the Foundation, anyone\\r\\nproviding copies of Project Gutenberg™ electronic works in\\r\\naccordance with this agreement, and any volunteers associated with the\\r\\nproduction, promotion and distribution of Project Gutenberg™\\r\\nelectronic works, harmless from all liability, costs and expenses,\\r\\nincluding legal fees, that arise directly or indirectly from any of\\r\\nthe following which you do or cause to occur: (a) distribution of this\\r\\nor any Project Gutenberg™ work, (b) alteration, modification, or\\r\\nadditions or deletions to any Project Gutenberg™ work, and (c) any\\r\\nDefect you cause.\\r\\n\\r\\nSection 2. Information about the Mission of Project Gutenberg™\\r\\n\\r\\nProject Gutenberg™ is synonymous with the free distribution of\\r\\nelectronic works in formats readable by the widest variety of\\r\\ncomputers including obsolete, old, middle-aged and new computers. It\\r\\nexists because of the efforts of hundreds of volunteers and donations\\r\\nfrom people in all walks of life.\\r\\n\\r\\nVolunteers and financial support to provide volunteers with the\\r\\nassistance they need are critical to reaching Project Gutenberg™’s\\r\\ngoals and ensuring that the Project Gutenberg™ collection will\\r\\nremain freely available for generations to come. In 2001, the Project\\r\\nGutenberg Literary Archive Foundation was created to provide a secure\\r\\nand permanent future for Project Gutenberg™ and future\\r\\ngenerations. To learn more about the Project Gutenberg Literary\\r\\nArchive Foundation and how your efforts and donations can help, see\\r\\nSections 3 and 4 and the Foundation information page at www.gutenberg.org.\\r\\n\\r\\nSection 3. Information about the Project Gutenberg Literary Archive Foundation\\r\\n\\r\\nThe Project Gutenberg Literary Archive Foundation is a non-profit\\r\\n501(c)(3) educational corporation organized under the laws of the\\r\\nstate of Mississippi and granted tax exempt status by the Internal\\r\\nRevenue Service. The Foundation’s EIN or federal tax identification\\r\\nnumber is 64-6221541. Contributions to the Project Gutenberg Literary\\r\\nArchive Foundation are tax deductible to the full extent permitted by\\r\\nU.S. federal laws and your state’s laws.\\r\\n\\r\\nThe Foundation’s business office is located at 809 North 1500 West,\\r\\nSalt Lake City, UT 84116, (801) 596-1887. Email contact links and up\\r\\nto date contact information can be found at the Foundation’s website\\r\\nand official page at www.gutenberg.org/contact\\r\\n\\r\\nSection 4. Information about Donations to the Project Gutenberg\\r\\nLiterary Archive Foundation\\r\\n\\r\\nProject Gutenberg™ depends upon and cannot survive without widespread\\r\\npublic support and donations to carry out its mission of\\r\\nincreasing the number of public domain and licensed works that can be\\r\\nfreely distributed in machine-readable form accessible by the widest\\r\\narray of equipment including outdated equipment. Many small donations\\r\\n($1 to $5,000) are particularly important to maintaining tax exempt\\r\\nstatus with the IRS.\\r\\n\\r\\nThe Foundation is committed to complying with the laws regulating\\r\\ncharities and charitable donations in all 50 states of the United\\r\\nStates. Compliance requirements are not uniform and it takes a\\r\\nconsiderable effort, much paperwork and many fees to meet and keep up\\r\\nwith these requirements. We do not solicit donations in locations\\r\\nwhere we have not received written confirmation of compliance. To SEND\\r\\nDONATIONS or determine the status of compliance for any particular state\\r\\nvisit www.gutenberg.org/donate.\\r\\n\\r\\nWhile we cannot and do not solicit contributions from states where we\\r\\nhave not met the solicitation requirements, we know of no prohibition\\r\\nagainst accepting unsolicited donations from donors in such states who\\r\\napproach us with offers to donate.\\r\\n\\r\\nInternational donations are gratefully accepted, but we cannot make\\r\\nany statements concerning tax treatment of donations received from\\r\\noutside the United States. U.S. laws alone swamp our small staff.\\r\\n\\r\\nPlease check the Project Gutenberg web pages for current donation\\r\\nmethods and addresses. Donations are accepted in a number of other\\r\\nways including checks, online payments and credit card donations. To\\r\\ndonate, please visit: www.gutenberg.org/donate.\\r\\n\\r\\nSection 5. General Information About Project Gutenberg™ electronic works\\r\\n\\r\\nProfessor Michael S. Hart was the originator of the Project\\r\\nGutenberg™ concept of a library of electronic works that could be\\r\\nfreely shared with anyone. For forty years, he produced and\\r\\ndistributed Project Gutenberg™ eBooks with only a loose network of\\r\\nvolunteer support.\\r\\n\\r\\nProject Gutenberg™ eBooks are often created from several printed\\r\\neditions, all of which are confirmed as not protected by copyright in\\r\\nthe U.S. unless a copyright notice is included. Thus, we do not\\r\\nnecessarily keep eBooks in compliance with any particular paper\\r\\nedition.\\r\\n\\r\\nMost people start at our website which has the main PG search\\r\\nfacility: www.gutenberg.org.\\r\\n\\r\\nThis website includes information about Project Gutenberg™,\\r\\nincluding how to make donations to the Project Gutenberg Literary\\r\\nArchive Foundation, how to help produce our new eBooks, and how to\\r\\nsubscribe to our email newsletter to hear about new eBooks.\\r\\n\\r\\n\\r\\n\",\n",
       " 'mimetype': 'text/plain',\n",
       " 'start_char_idx': None,\n",
       " 'end_char_idx': None,\n",
       " 'text_template': '{metadata_str}\\n\\n{content}',\n",
       " 'metadata_template': '{key}: {value}',\n",
       " 'metadata_seperator': '\\n'}"
      ]
     },
     "execution_count": 7,
     "metadata": {},
     "output_type": "execute_result"
    }
   ],
   "source": [
    "documents[3].__dict__"
   ]
  },
  {
   "cell_type": "markdown",
   "metadata": {},
   "source": [
    "##### Manually Create Document Objects"
   ]
  },
  {
   "cell_type": "code",
   "execution_count": 8,
   "metadata": {},
   "outputs": [],
   "source": [
    "from llama_index.core import Document\n",
    "\n",
    "manual_document = Document(text=\"This is an example of a manual document\")"
   ]
  },
  {
   "cell_type": "code",
   "execution_count": 9,
   "metadata": {},
   "outputs": [
    {
     "data": {
      "text/plain": [
       "{'id_': 'd92e535f-16d9-4760-ab12-b2f41501077e',\n",
       " 'embedding': None,\n",
       " 'metadata': {},\n",
       " 'excluded_embed_metadata_keys': [],\n",
       " 'excluded_llm_metadata_keys': [],\n",
       " 'relationships': {},\n",
       " 'text': 'This is an example of a manual document',\n",
       " 'mimetype': 'text/plain',\n",
       " 'start_char_idx': None,\n",
       " 'end_char_idx': None,\n",
       " 'text_template': '{metadata_str}\\n\\n{content}',\n",
       " 'metadata_template': '{key}: {value}',\n",
       " 'metadata_seperator': '\\n'}"
      ]
     },
     "execution_count": 9,
     "metadata": {},
     "output_type": "execute_result"
    }
   ],
   "source": [
    "manual_document.__dict__"
   ]
  },
  {
   "cell_type": "markdown",
   "metadata": {},
   "source": [
    "##### Adding metadata\n",
    "\n",
    "You can add metadata in the document constructor:"
   ]
  },
  {
   "cell_type": "code",
   "execution_count": 10,
   "metadata": {},
   "outputs": [],
   "source": [
    "manual_document_with_metadata = Document(\n",
    "    text=\"This is an example of a manual document\",\n",
    "    metadata={\"filename\": \"made-up-file-name\", \"category\": \"imaginary-category\"}\n",
    ")"
   ]
  },
  {
   "cell_type": "code",
   "execution_count": 11,
   "metadata": {},
   "outputs": [
    {
     "data": {
      "text/plain": [
       "{'id_': '22562908-2c33-4a61-9245-dc6d8c2e3176',\n",
       " 'embedding': None,\n",
       " 'metadata': {'filename': 'made-up-file-name',\n",
       "  'category': 'imaginary-category'},\n",
       " 'excluded_embed_metadata_keys': [],\n",
       " 'excluded_llm_metadata_keys': [],\n",
       " 'relationships': {},\n",
       " 'text': 'This is an example of a manual document',\n",
       " 'mimetype': 'text/plain',\n",
       " 'start_char_idx': None,\n",
       " 'end_char_idx': None,\n",
       " 'text_template': '{metadata_str}\\n\\n{content}',\n",
       " 'metadata_template': '{key}: {value}',\n",
       " 'metadata_seperator': '\\n'}"
      ]
     },
     "execution_count": 11,
     "metadata": {},
     "output_type": "execute_result"
    }
   ],
   "source": [
    "manual_document_with_metadata.__dict__"
   ]
  },
  {
   "cell_type": "markdown",
   "metadata": {},
   "source": [
    "Or after the document is created"
   ]
  },
  {
   "cell_type": "code",
   "execution_count": 12,
   "metadata": {},
   "outputs": [],
   "source": [
    "manual_document.metadata={\"filename\": \"made-up-file-name\", \"category\": \"imaginary-category\"}"
   ]
  },
  {
   "cell_type": "code",
   "execution_count": 13,
   "metadata": {},
   "outputs": [
    {
     "data": {
      "text/plain": [
       "{'id_': 'd92e535f-16d9-4760-ab12-b2f41501077e',\n",
       " 'embedding': None,\n",
       " 'metadata': {'filename': 'made-up-file-name',\n",
       "  'category': 'imaginary-category'},\n",
       " 'excluded_embed_metadata_keys': [],\n",
       " 'excluded_llm_metadata_keys': [],\n",
       " 'relationships': {},\n",
       " 'text': 'This is an example of a manual document',\n",
       " 'mimetype': 'text/plain',\n",
       " 'start_char_idx': None,\n",
       " 'end_char_idx': None,\n",
       " 'text_template': '{metadata_str}\\n\\n{content}',\n",
       " 'metadata_template': '{key}: {value}',\n",
       " 'metadata_seperator': '\\n'}"
      ]
     },
     "execution_count": 13,
     "metadata": {},
     "output_type": "execute_result"
    }
   ],
   "source": [
    "manual_document.__dict__"
   ]
  },
  {
   "cell_type": "markdown",
   "metadata": {},
   "source": [
    "# 🔧 Transform the data\n",
    "\n",
    "After loading, we must process and transform data for retrieval. We need to transform the list of `Document` objects into `Node` objects \n",
    "\n",
    "- ✂️ Include chunking, extracting metadata, and embedding each chunk in transformations.\n",
    "\n",
    "- 🌟 Nodes are a first-class citizen in LlamaIndex, allowing direct definition or parsing from Documents.\n",
    "\n",
    "- 🔄 Transformation inputs and outputs are `Node` objects (Note: `Document` is subclass of `Node`).\n",
    "\n",
    "- 🛠️ Nodes are \"chunks\" of Documents, including text, images, etc., plus metadata and relationships.\n",
    "\n",
    "- 📊 `NodeParser` classes convert Documents into Nodes with all necessary attributes. There are [a number of](https://docs.llamaindex.ai/en/stable/module_guides/loading/node_parsers/modules.html) `NodeParser`'s you can choose from!\n",
    "\n",
    "- 📑 High-level API: Use `.from_documents()` for automatic parsing and chunking of Document objects.\n",
    "\n",
    "- 🔍 Underlying process splits Document into Node objects, maintaining text and metadata with a link to their parent Document.\n"
   ]
  },
  {
   "cell_type": "code",
   "execution_count": 14,
   "metadata": {},
   "outputs": [
    {
     "data": {
      "application/vnd.jupyter.widget-view+json": {
       "model_id": "c70bf2c84bd64987b9c870a4d29c545f",
       "version_major": 2,
       "version_minor": 0
      },
      "text/plain": [
       "Parsing nodes:   0%|          | 0/10 [00:00<?, ?it/s]"
      ]
     },
     "metadata": {},
     "output_type": "display_data"
    }
   ],
   "source": [
    "from llama_index.core.node_parser import SentenceSplitter\n",
    "\n",
    "parser = SentenceSplitter(\n",
    "    chunk_size=128, # in tokens\n",
    "    chunk_overlap=16, #in tokens\n",
    "    paragraph_separator=\"\\n\\n\"\n",
    ")\n",
    "\n",
    "nodes = parser.get_nodes_from_documents(documents, show_progress=True)"
   ]
  },
  {
   "cell_type": "code",
   "execution_count": 15,
   "metadata": {},
   "outputs": [
    {
     "data": {
      "text/plain": [
       "llama_index.core.schema.TextNode"
      ]
     },
     "execution_count": 15,
     "metadata": {},
     "output_type": "execute_result"
    }
   ],
   "source": [
    "type(nodes[42])"
   ]
  },
  {
   "cell_type": "code",
   "execution_count": 16,
   "metadata": {},
   "outputs": [
    {
     "data": {
      "text/plain": [
       "{'id_': 'a30be324-5adb-446e-a75c-743687cdda11',\n",
       " 'embedding': None,\n",
       " 'metadata': {'file_path': '/workspaces/hands-on-ai-rag-using-llamaindex-3830207/02_Fundamental_Concepts_in_LlamaIndex/data/pg1.txt',\n",
       "  'file_name': 'pg1.txt',\n",
       "  'file_type': 'text/plain',\n",
       "  'file_size': 127192,\n",
       "  'creation_date': '2025-08-05',\n",
       "  'last_modified_date': '2025-08-05'},\n",
       " 'excluded_embed_metadata_keys': ['file_name',\n",
       "  'file_type',\n",
       "  'file_size',\n",
       "  'creation_date',\n",
       "  'last_modified_date',\n",
       "  'last_accessed_date'],\n",
       " 'excluded_llm_metadata_keys': ['file_name',\n",
       "  'file_type',\n",
       "  'file_size',\n",
       "  'creation_date',\n",
       "  'last_modified_date',\n",
       "  'last_accessed_date'],\n",
       " 'relationships': {<NodeRelationship.SOURCE: '1'>: RelatedNodeInfo(node_id='a79863fe-79e9-4601-b1d5-30cd7ef49ef3', node_type=<ObjectType.DOCUMENT: '4'>, metadata={'file_path': '/workspaces/hands-on-ai-rag-using-llamaindex-3830207/02_Fundamental_Concepts_in_LlamaIndex/data/pg1.txt', 'file_name': 'pg1.txt', 'file_type': 'text/plain', 'file_size': 127192, 'creation_date': '2025-08-05', 'last_modified_date': '2025-08-05'}, hash='a5dc69d4656f4af6f396a859aa182ec3ab196bd367b06a6b4eb665d1a88f654b'),\n",
       "  <NodeRelationship.PREVIOUS: '2'>: RelatedNodeInfo(node_id='5a0fbbe8-976e-406f-a1c9-8aeea551ddce', node_type=<ObjectType.TEXT: '1'>, metadata={'file_path': '/workspaces/hands-on-ai-rag-using-llamaindex-3830207/02_Fundamental_Concepts_in_LlamaIndex/data/pg1.txt', 'file_name': 'pg1.txt', 'file_type': 'text/plain', 'file_size': 127192, 'creation_date': '2025-08-05', 'last_modified_date': '2025-08-05'}, hash='f40020239ee3d0c771de226836c1684b1e0fd48a8d4b8db69b59b532418b301a'),\n",
       "  <NodeRelationship.NEXT: '3'>: RelatedNodeInfo(node_id='41ce4e9f-077a-4c66-b79c-5aa3733d368a', node_type=<ObjectType.TEXT: '1'>, metadata={}, hash='5a798a2b9cadf24de82e841529972a6f040968e999c039337dbf78378a7c3cda')},\n",
       " 'text': 'To prove this, let Facts\\r\\nbe submitted to a candid world.\\r\\n\\r\\nHe has refused his Assent to Laws, the most wholesome and necessary\\r\\nfor the public good.\\r\\n\\r\\nHe has forbidden his Governors to pass Laws of immediate\\r\\nand pressing importance, unless suspended in their operation\\r\\ntill his Assent should be obtained; and when so suspended,\\r\\nhe has utterly neglected to attend to them.',\n",
       " 'mimetype': 'text/plain',\n",
       " 'start_char_idx': 13252,\n",
       " 'end_char_idx': 13629,\n",
       " 'text_template': '{metadata_str}\\n\\n{content}',\n",
       " 'metadata_template': '{key}: {value}',\n",
       " 'metadata_seperator': '\\n'}"
      ]
     },
     "execution_count": 16,
     "metadata": {},
     "output_type": "execute_result"
    }
   ],
   "source": [
    "nodes[42].__dict__"
   ]
  },
  {
   "cell_type": "markdown",
   "metadata": {},
   "source": [
    "You can also choose to construct Node objects manually.\n"
   ]
  },
  {
   "cell_type": "code",
   "execution_count": 17,
   "metadata": {},
   "outputs": [],
   "source": [
    "from llama_index.core.schema import TextNode, NodeRelationship, RelatedNodeInfo\n",
    "\n",
    "node1 = TextNode(text=\"Dad is married to Mom\", id_=\"001\")\n",
    "\n",
    "node2 = TextNode(text=\"Dad is Son's dad\", id_=\"002\")"
   ]
  },
  {
   "cell_type": "markdown",
   "metadata": {},
   "source": [
    "## NodeRelationships\n",
    "\n",
    "You can set relationships between nodes.\n",
    "\n",
    "- 🌐 NodeRelationships assign connections between chunks of text. It's useful for:\n",
    "  - Documents organized in a hierarchical manner (e.g., book, chapter, section, subsection)\n",
    "  - Maintaining sequential order\n",
    "  - Other complex relationships (ie, in legal documents for links a clause or other cases) \n",
    "\n",
    "- 🔍 NodeRelationships help retrieve not just the relevant section, but also related sections that might provide additional context or information."
   ]
  },
  {
   "cell_type": "code",
   "execution_count": 18,
   "metadata": {},
   "outputs": [],
   "source": [
    "node1.relationships[NodeRelationship.NEXT] = RelatedNodeInfo(\n",
    "    node_id=node2.node_id\n",
    ")\n",
    "\n",
    "node2.relationships[NodeRelationship.PREVIOUS] = RelatedNodeInfo(\n",
    "    node_id=node1.node_id\n",
    ")\n",
    "nodes = [node1, node2]\n",
    "\n",
    "node2.relationships[NodeRelationship.PARENT] = RelatedNodeInfo(\n",
    "    node_id=node1.node_id, metadata={\"Romie\": \"Mom\", \"Harpreet\": \"Dad\", \"Jind\":\"Daughter\", \"Jugaad\":\"Son\"}, \n",
    ")"
   ]
  },
  {
   "cell_type": "markdown",
   "metadata": {},
   "source": [
    "A bit of clean up, let's just go ahead and delete the text files we downloaded since we won't need them going forward.\n"
   ]
  },
  {
   "cell_type": "code",
   "execution_count": 19,
   "metadata": {},
   "outputs": [],
   "source": [
    "# !rm -rf ./data"
   ]
  }
 ],
 "metadata": {
  "kernelspec": {
   "display_name": "lil_llama_index",
   "language": "python",
   "name": "python3"
  },
  "language_info": {
   "codemirror_mode": {
    "name": "ipython",
    "version": 3
   },
   "file_extension": ".py",
   "mimetype": "text/x-python",
   "name": "python",
   "nbconvert_exporter": "python",
   "pygments_lexer": "ipython3",
   "version": "3.10.0"
  }
 },
 "nbformat": 4,
 "nbformat_minor": 2
}
